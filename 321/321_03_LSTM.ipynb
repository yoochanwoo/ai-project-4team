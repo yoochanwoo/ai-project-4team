{
 "cells": [
  {
   "cell_type": "markdown",
   "metadata": {},
   "source": [
    "## 미세먼지 예측(LSTM)"
   ]
  },
  {
   "cell_type": "code",
   "execution_count": 71,
   "metadata": {},
   "outputs": [
    {
     "name": "stdout",
     "output_type": "stream",
     "text": [
      "               date area  pm10  pm2.5\n",
      "0  2022-12-31 23:00  강남구  57.0   44.0\n",
      "1  2022-12-31 23:00  강동구  68.0   55.0\n",
      "2  2022-12-31 23:00  강북구  59.0   42.0\n",
      "3  2022-12-31 23:00  강서구  62.0   40.0\n",
      "4  2022-12-31 23:00  관악구  57.0   38.0\n",
      "(227759, 4)\n",
      "8760\n"
     ]
    }
   ],
   "source": [
    "# 필요한 라이브러리 불러오기\n",
    "import pandas as pd\n",
    "import numpy as np\n",
    "import matplotlib.pyplot as plt\n",
    "from sklearn.preprocessing import MinMaxScaler\n",
    "from tensorflow.keras.models import Sequential\n",
    "from tensorflow.keras.layers import LSTM, Dense\n",
    "\n",
    "# 데이터 불러오기\n",
    "data_path = 'dataset/seoul_pm10.csv'  # 데이터 경로\n",
    "df = pd.read_csv(data_path, encoding='cp949')\n",
    "\n",
    "# 데이터 확인\n",
    "print(df.head())\n",
    "#print(df.isnull().sum())\n",
    "print(df.shape)\n",
    "#dateList = list(df['date'].unique())\n",
    "#dateList.sort()\n",
    "#print(len(dateList))\n",
    "#print(227760/8760) # 각 시간(8760개)마다 26개의 지역이 반복됨\n",
    "df_List = df.values\n",
    "\n",
    "df_gangnam = []\n",
    "for d in df_List:\n",
    "    if d[1]=='강남구':\n",
    "        df_gangnam.append(d)\n",
    "print(len(df_gangnam))\n",
    "\n",
    "df['date'] = pd.to_datetime(df['date'])\n",
    "df.set_index('date', inplace=True)\n",
    "df.dropna(inplace=True)  # 결측치 제거\n"
   ]
  },
  {
   "cell_type": "code",
   "execution_count": null,
   "metadata": {},
   "outputs": [],
   "source": [
    "# 2. 데이터 전처리\n",
    "scaler = MinMaxScaler(feature_range=(0, 1))\n",
    "scaled_data = scaler.fit_transform(df)\n",
    "\n",
    "def create_dataset(dataset, look_back=26):\n",
    "    X, y = [], []\n",
    "    for i in range(len(dataset) - look_back):\n",
    "        X.append(dataset[i:i + look_back, 0])\n",
    "        y.append(dataset[i + look_back, 0])\n",
    "    return np.array(X), np.array(y)\n",
    "\n",
    "look_back = 26  # 26개의 지역씩 나눔\n",
    "X, y = create_dataset(scaled_data, look_back)\n",
    "X = np.reshape(X, (X.shape[0], X.shape[1], 1))  # LSTM 입력 형태"
   ]
  }
 ],
 "metadata": {
  "kernelspec": {
   "display_name": "myenv",
   "language": "python",
   "name": "python3"
  },
  "language_info": {
   "codemirror_mode": {
    "name": "ipython",
    "version": 3
   },
   "file_extension": ".py",
   "mimetype": "text/x-python",
   "name": "python",
   "nbconvert_exporter": "python",
   "pygments_lexer": "ipython3",
   "version": "3.10.6"
  }
 },
 "nbformat": 4,
 "nbformat_minor": 2
}
