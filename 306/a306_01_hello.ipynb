{
 "cells": [
  {
   "cell_type": "code",
   "execution_count": 2,
   "metadata": {},
   "outputs": [
    {
     "name": "stdout",
     "output_type": "stream",
     "text": [
      "Hello! Python\n",
      "1 180\n",
      "182\n",
      "1 2 3\n",
      "False\n",
      "홍길동 김철수\n"
     ]
    }
   ],
   "source": [
    "print('Hello! Python')\n",
    "\n",
    "\n",
    "# 다양한 변수 선언\n",
    "x = 1\n",
    "height = 180\n",
    "print(x, height)\n",
    "height = 182\n",
    "print(height)\n",
    "one, two, three = 1, 2, 3\n",
    "print(one, two, three)\n",
    "\n",
    "#%%\n",
    "# 변수명 선언 필수 규칙 (지키지 않으면 실행불가)\n",
    "\n",
    "# 변수명에는 알파벳, 숫자, 언더바만 사용 가능\n",
    "PI = 3.14\n",
    "number2025 = 2025\n",
    "your_name = \"Jenny Kim\"\n",
    "\n",
    "# 변수명은 숫자로 시작할 수 없다\n",
    "# ex) 2025number = 2025 (x)\n",
    "\n",
    "# 변수명은 소문자와 대문자를 구분한다\n",
    "X = 2\n",
    "isSame = x==X\n",
    "print(isSame)\n",
    "\n",
    "# 키워드는 변수명으로 사용할 수 없다\n",
    "# ex) if = \"홍길동\" (x)\n",
    "\n",
    "#%%\n",
    "# 변수명 선언 권장 규칙 (가독성을 위해 지켜야 한다)\n",
    "\n",
    "# 변수명은 띄어쓰기를 대문자로 구분(camel case)하거나, 언더바로 구분(snake case)한다\n",
    "hongName = \"홍길동\" #(camel case)\n",
    "kim_name = \"김철수\" #(snake case)\n",
    "print(hongName, kim_name)\n",
    "# 둘을 섞어쓰기 보다, 해당 현장에서 사용하는 규칙 하나만을 사용하는 게 좋다\n",
    "\n",
    "# 변수명은 대상을 유추하기 쉬운 이름으로 지정한다\n",
    "a=\"사과\" #(x)\n",
    "banana = \"바나나\" #(o)"
   ]
  }
 ],
 "metadata": {
  "kernelspec": {
   "display_name": ".venv",
   "language": "python",
   "name": "python3"
  },
  "language_info": {
   "codemirror_mode": {
    "name": "ipython",
    "version": 3
   },
   "file_extension": ".py",
   "mimetype": "text/x-python",
   "name": "python",
   "nbconvert_exporter": "python",
   "pygments_lexer": "ipython3",
   "version": "3.10.6"
  }
 },
 "nbformat": 4,
 "nbformat_minor": 2
}
