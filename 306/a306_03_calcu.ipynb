{
 "cells": [
  {
   "cell_type": "markdown",
   "metadata": {},
   "source": [
    "## 연산"
   ]
  },
  {
   "cell_type": "code",
   "execution_count": 6,
   "metadata": {},
   "outputs": [
    {
     "name": "stdout",
     "output_type": "stream",
     "text": [
      "13 5 1500000.0\n",
      "x + y = 18\n",
      "x - y = 8\n",
      "x * y = 65\n",
      "x / y = 2.6\n",
      "x // y = 2\n",
      "x % y = 3\n",
      "x ** y = 371293\n",
      "14\n",
      "15\n",
      "17\n",
      "34\n",
      "32\n",
      "16.0\n",
      "8.0\n",
      "2.0\n",
      "8.0\n"
     ]
    }
   ],
   "source": [
    "# 수의 표현\n",
    "x=13\n",
    "y=5\n",
    "z=1.5e6\n",
    "print(x, y, z)\n",
    "\n",
    "# 수의 연산\n",
    "print(f'x + y = {x + y}')\n",
    "print(f'x - y = {x - y}')\n",
    "print(f'x * y = {x * y}')\n",
    "print(f'x / y = {x / y}')\n",
    "print(f'x // y = {x // y}')\n",
    "print(f'x % y = {x % y}')\n",
    "print(f'x ** y = {x ** y}')\n",
    "\n",
    "# 수의 재할당\n",
    "x = x + 1\n",
    "print(x)\n",
    "\n",
    "x = x + 1\n",
    "print(x)\n",
    "\n",
    "# 복합연산자\n",
    "x += 2\n",
    "print(x)\n",
    "\n",
    "x *= 2\n",
    "print(x)\n",
    "x -= 2\n",
    "print(x)\n",
    "x /= 2\n",
    "print(x)\n",
    "x //= 2\n",
    "print(x)\n",
    "x %= 3\n",
    "print(x)\n",
    "x **= 3\n",
    "print(x)"
   ]
  },
  {
   "cell_type": "markdown",
   "metadata": {},
   "source": [
    "## 문자 연산"
   ]
  },
  {
   "cell_type": "code",
   "execution_count": null,
   "metadata": {},
   "outputs": [],
   "source": [
    "# 파이썬에서는 문자 데이터(char) 와 문자열 데이터(str)를 구분하지 않는다"
   ]
  }
 ],
 "metadata": {
  "kernelspec": {
   "display_name": ".venv",
   "language": "python",
   "name": "python3"
  },
  "language_info": {
   "codemirror_mode": {
    "name": "ipython",
    "version": 3
   },
   "file_extension": ".py",
   "mimetype": "text/x-python",
   "name": "python",
   "nbconvert_exporter": "python",
   "pygments_lexer": "ipython3",
   "version": "3.10.6"
  }
 },
 "nbformat": 4,
 "nbformat_minor": 2
}
