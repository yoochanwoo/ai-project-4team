{
 "cells": [
  {
   "cell_type": "markdown",
   "metadata": {},
   "source": [
    "## RNN 및 LSTM 예제"
   ]
  },
  {
   "cell_type": "code",
   "execution_count": null,
   "metadata": {},
   "outputs": [],
   "source": [
    "import numpy as np\n",
    "import tensorflow as tf\n",
    "from tensorflow.keras.models import Sequential\n",
    "from tensorflow.keras.layers import SimpleRNN, LSTM, Dense\n",
    "from sklearn.model_selection import train_test_split\n",
    "from sklearn.metrics import mean_squared_error\n",
    "\n",
    "# 1. 데이터 준비\n",
    "# 간단한 시계열 데이터 생성 (y = x_t + x_{t-1})\n",
    "def generate_data(seq_length, n_samples):\n",
    "    X, y = [], []\n",
    "    for _ in range(n_samples):\n",
    "        seq = np.random.rand(seq_length)\n",
    "        X.append(seq[:-1])  # 마지막 값을 제외한 입력 시퀀스\n",
    "        y.append(seq[-1])   # 마지막 값이 타겟\n",
    "    return np.array(X), np.array(y)\n",
    "\n",
    "seq_length = 10\n",
    "n_samples = 1000\n",
    "X, y = generate_data(seq_length, n_samples)\n",
    "\n",
    "# 데이터 차원 변환 (RNN/LSTM 입력 형식: (samples, timesteps, features))\n",
    "X = X.reshape((X.shape[0], X.shape[1], 1))  # features = 1\n",
    "X_train, X_test, y_train, y_test = train_test_split(X, y, test_size=0.2, random_state=42)\n",
    "\n",
    "# 2. 모델 정의\n",
    "# RNN 모델\n",
    "rnn_model = Sequential([\n",
    "    SimpleRNN(10, activation='tanh', input_shape=(seq_length - 1, 1)),\n",
    "    Dense(1)  # 출력값\n",
    "])\n",
    "\n",
    "# LSTM 모델\n",
    "lstm_model = Sequential([\n",
    "    LSTM(10, activation='tanh', input_shape=(seq_length - 1, 1)),\n",
    "    Dense(1)  # 출력값\n",
    "])\n",
    "\n",
    "# 3. 모델 컴파일\n",
    "for model in [rnn_model, lstm_model]:\n",
    "    model.compile(optimizer='adam', loss='mse')\n",
    "    \n",
    "# 4. 모델 학습\n",
    "print(\"Training RNN model...\")\n",
    "rnn_model.fit(X_train, y_train, epochs=10, batch_size=32, verbose=0)\n",
    "print(\"Training LSTM model...\")\n",
    "lstm_model.fit(X_train, y_train, epochs=10, batch_size=32, verbose=0)\n",
    "\n",
    "# 5. 예측 및 평가\n",
    "rnn_predictions = rnn_model.predict(X_test)\n",
    "lstm_predictions = lstm_model.predict(X_test)\n",
    "\n",
    "# 모델 성능 평가\n",
    "rnn_mse = mean_squared_error(y_test, rnn_predictions)\n",
    "lstm_mse = mean_squared_error(y_test, lstm_predictions)\n",
    "\n",
    "print(f\"RNN MSE: {rnn_mse:.4f}\")\n",
    "print(f\"LSTM MSE: {lstm_mse:.4f}\")"
   ]
  }
 ],
 "metadata": {
  "kernelspec": {
   "display_name": "myenv",
   "language": "python",
   "name": "python3"
  },
  "language_info": {
   "name": "python",
   "version": "3.10.6"
  }
 },
 "nbformat": 4,
 "nbformat_minor": 2
}
