{
 "cells": [
  {
   "cell_type": "markdown",
   "metadata": {},
   "source": [
    "## 수 연산"
   ]
  },
  {
   "cell_type": "code",
   "execution_count": 1,
   "metadata": {},
   "outputs": [
    {
     "name": "stdout",
     "output_type": "stream",
     "text": [
      "30\n",
      "-10\n",
      "200\n",
      "0.5\n"
     ]
    }
   ],
   "source": [
    "a = 10\n",
    "b = 20\n",
    "print(a + b)\n",
    "print(a - b)\n",
    "print(a * b)\n",
    "print(a / b)"
   ]
  },
  {
   "cell_type": "markdown",
   "metadata": {},
   "source": [
    "## 문자 연산 1"
   ]
  },
  {
   "cell_type": "code",
   "execution_count": null,
   "metadata": {},
   "outputs": [
    {
     "name": "stdout",
     "output_type": "stream",
     "text": [
      "P y\n",
      "p y T\n",
      "Pyt\n",
      "th\n",
      "Pyth\n",
      "pTo\n",
      "yhn\n",
      "ph\n",
      "PythonpyThon\n",
      "PythonPythonPython\n",
      "6\n",
      "PYTHON\n",
      "python\n",
      "2\n",
      "1\n"
     ]
    }
   ],
   "source": [
    "# 인덱스 접근\n",
    "\n",
    "text1 = \"Python\"\n",
    "text2 = \"pyThon\"\n",
    "\n",
    "print(text1[0], text1[1])\n",
    "print(text2[0], text2[1], text2[2])\n",
    "# 해당 인덱스값의 문자 하나를 가져옴\n",
    "\n",
    "print(text1[0:3])   # 0부터 3까지\n",
    "print(text1[2:4])   # 2부터 4까지\n",
    "print(text1[:4])    # 처음부터 4까지\n",
    "print(text2[::2])   # 처음부터 2칸씩 건너 띄어 추출 (0,2,4값을 추출)\n",
    "print(text2[1::2])  # 1부터 2칸씩 건너 띄어 추출 (1,3,5값을)\n",
    "print(text2[::3])   # 처음부터 3칸씩 건너 띄어 추출 (0,3값을)\n",
    "# 시작과 끝값을 지정하여 문자열을 추출함\n",
    "\n",
    "print(text1+text2)\n",
    "print(text1*3)\n",
    "# 문자열의 덧셈연결, 곱셈연결이 가능\n",
    "print(len(text1))\n",
    "# len(문자열데이터) : 대상 문자열 데이터의 길이를 리턴하는 명령어\n",
    "print(text1.upper())\n",
    "#.upper() : 모든 문자 대문자로 변환하여 리턴하는 메서드\n",
    "print(text2.lower())\n",
    "#.lower() : 모든 문자 소문자로 변환하여 리턴하는 메서드\n",
    "print(text1.find(\"t\"))\n",
    "#.find() : 해당 문자의 위치 인덱스 값을 리턴하는 메서드\n",
    "# 여러 개라면, 가장 처음 것을 가져옴\n",
    "# 대소문자를 구분함\n",
    "print(text2.count(\"o\"))\n",
    "#.count() : 해당 문자가 포함된 수를 리턴하는 메서드\n",
    "# 대소문자를 구분함"
   ]
  },
  {
   "cell_type": "markdown",
   "metadata": {},
   "source": [
    "## 문자 연산 2"
   ]
  },
  {
   "cell_type": "code",
   "execution_count": null,
   "metadata": {},
   "outputs": [
    {
     "name": "stdout",
     "output_type": "stream",
     "text": [
      "python is fun\n",
      "python is fun\n",
      "python is fun \n",
      " python is fun\n",
      "['python', 'is', 'fun']\n",
      "python is fun\n",
      "python.is.fun\n",
      "python-is-fun\n",
      "제 이름은 홍길동이고, 나이는 25살 입니다\n",
      "제 이름은 홍길동이고, 나이는 25살 입니다\n",
      "제 이름은 홍길동이고\n",
      "나이는 25살 입니다\n",
      "제 이름은 홍길동이고\t나이는 25살 입니다\n",
      "제 이름은 홍길동이고 \\ 나이는 25살 입니다\n"
     ]
    }
   ],
   "source": [
    "text1 = \"python is fun\"\n",
    "text2 = \" python is fun \"\n",
    "print(text1.strip())\n",
    "print(text2.strip())\n",
    "#.strip() : 양쪽에 공백이 있으면 제거하여 리턴하는 메서드\n",
    "\n",
    "print(text2.lstrip())\n",
    "print(text2.rstrip())\n",
    "#.lstrip() : 왼쪽 공백 제거하여 리턴하는 메서드\n",
    "#.rstrip() : 왼쪽 공백 제거하여 리턴하는 메서드\n",
    "\n",
    "list_text1 = text1.split()\n",
    "print(list_text1)\n",
    "#.split() : 공백기준으로 분할하여 리스트로 반환하는 메서드\n",
    "print(' '.join(list_text1))\n",
    "print('.'.join(list_text1))\n",
    "print('-'.join(list_text1))\n",
    "#'구분자'.join(문자열) : 리스트의 요소들을 특정 구분자로 연결하여 리턴하는 메서드\n",
    "\n",
    "name=\"홍길동\"\n",
    "age=25\n",
    "print(f\"제 이름은 {name}이고, 나이는 {age}살 입니다\")\n",
    "# f-string 방식 : 변수를 문자열에 포함하여 출력할 수 있다\n",
    "\n",
    "hello = \"제 이름은 %s이고, 나이는 %d살 입니다\" % (name, age)\n",
    "print(hello)\n",
    "# 구버전 방식 : %s는 문자, %d는 숫자를 출력\n",
    "\n",
    "print(f\"제 이름은 {name}이고\\n나이는 {age}살 입니다\")\n",
    "print(f\"제 이름은 {name}이고\\t나이는 {age}살 입니다\")\n",
    "print(f\"제 이름은 {name}이고 \\\\ 나이는 {age}살 입니다\")\n",
    "# \\n : 줄바꿈\n",
    "# \\t : 탭\n",
    "# \\\\ : 백슬래시\n",
    "\n"
   ]
  },
  {
   "cell_type": "markdown",
   "metadata": {},
   "source": [
    "## 리스트 처리 1"
   ]
  },
  {
   "cell_type": "code",
   "execution_count": null,
   "metadata": {},
   "outputs": [
    {
     "name": "stdout",
     "output_type": "stream",
     "text": [
      "바나나\n",
      "['사과', '바나나']\n",
      "['사과', '바나나', '딸기', '복숭아']\n",
      "[8, 2, 3, 6, 1, 2, 5, 3]\n",
      "[1, 2, 2, 3, 3, 5, 6, 8]\n",
      "[1, 2, 2, 3, 5, 6, 8]\n",
      "2\n",
      "[1, 2, 3, 5, 6, 8]\n",
      "[8, 6, 5, 3, 2, 1]\n"
     ]
    }
   ],
   "source": [
    "empty_list = []\n",
    "fruits = [\"사과\",\"바나나\",\"딸기\"]\n",
    "\n",
    "#인덱스 접근, 추출 가능\n",
    "print(fruits[1])\n",
    "print(fruits[0:2])\n",
    "\n",
    "fruits.append(\"복숭아\")\n",
    "print(fruits)\n",
    "#.append(추가데이터) : 데이터를 추가하는 메서드\n",
    "\n",
    "numbers = [8,2,3,6,1,2,5,3]\n",
    "print(numbers)\n",
    "numbers.sort()\n",
    "print(numbers)\n",
    "#.sort() : 오름차순으로 리스트를 정렬하는 메서드\n",
    "\n",
    "numbers.remove(3)\n",
    "print(numbers)\n",
    "#.remove(제거데이터) : 처음 발견되는 대상 데이터를 삭제하는 메서드\n",
    "\n",
    "print(numbers.pop(2))\n",
    "print(numbers)\n",
    "#.pop(2) : 인덱스 2값의 요소를 리턴하고 삭제하는 메서드\n",
    "\n",
    "numbers.reverse()\n",
    "print(numbers)\n",
    "#.reverse() : 리스트의 순서를 뒤집는 메서드\n",
    "# sort()와 같이 사용하여 내림차순 정렬도 가능"
   ]
  },
  {
   "cell_type": "markdown",
   "metadata": {},
   "source": [
    "## 리스트 처리 2"
   ]
  },
  {
   "cell_type": "code",
   "execution_count": 25,
   "metadata": {},
   "outputs": [
    {
     "name": "stdout",
     "output_type": "stream",
     "text": [
      "2\n",
      "[3, 5, 8, 2, 1, 6, 3, 4]\n",
      "[3, 5, 8, 2, 1, 6, 3, 4, 8, 2, 5]\n",
      "[3, 5, 8, 2, 1, 6, 3, 4, 8, 2, 5, 1, 6, 2, 3]\n"
     ]
    }
   ],
   "source": [
    "numbers1 = [3,5,8,2,1,6,3,4]\n",
    "\n",
    "print(numbers1.count(3))\n",
    "#.count(데이터) : 해당 데이터의 수를 세어 리턴하는 메서드\n",
    "\n",
    "new_numbers1 = numbers1.copy()\n",
    "print(new_numbers1)\n",
    "#.copy() : 대상 데이터를 복사하여 리턴하는 메서드\n",
    "\n",
    "numbers1.extend([8,2,5])\n",
    "print(numbers1)\n",
    "#.extend(리스트데이터) : 해당 리스트 데이터를 추가하는 메서드\n",
    "\n",
    "numbers2 = [1,6,2,3]\n",
    "combined_list = numbers1+numbers2\n",
    "print(combined_list)\n",
    "# 리스트는 덧셈연산으로 연결 가능"
   ]
  },
  {
   "cell_type": "markdown",
   "metadata": {},
   "source": [
    "## 튜플"
   ]
  },
  {
   "cell_type": "code",
   "execution_count": null,
   "metadata": {},
   "outputs": [
    {
     "name": "stdout",
     "output_type": "stream",
     "text": [
      "green\n",
      "('red', 'green')\n",
      "2\n",
      "2\n"
     ]
    }
   ],
   "source": [
    "empty_tuple=()\n",
    "single_tuple=(4,)\n",
    "# 단일요소 튜플은 콤마를 붙여야 함\n",
    "\n",
    "colors=(\"red\",\"green\",\"blue\")\n",
    "print(colors[1])\n",
    "print(colors[0:2])\n",
    "# 인덱스 접근/추출 가능\n",
    "\n",
    "numbers = (1,2,3,4,5,4,3,2,1)\n",
    "print(numbers.count(3)) # 3의 총 개수(2개)를 리턴\n",
    "# 카운트 사용 가능\n",
    "print(numbers.index(3)) # 처음 오는 3을 찾아 3의 인덱스값(2)을 리턴\n",
    "#.index(데이터) : 해당 데이터를 찾아 인덱스값을 리턴하는 메서드"
   ]
  },
  {
   "cell_type": "markdown",
   "metadata": {},
   "source": [
    "## 딕셔너리"
   ]
  },
  {
   "cell_type": "code",
   "execution_count": null,
   "metadata": {},
   "outputs": [
    {
     "name": "stdout",
     "output_type": "stream",
     "text": [
      "홍길동 25 수원\n",
      "김철수 35 인천\n",
      "김철수 35 인천\n",
      "dict_keys(['name', 'age', 'loc'])\n",
      "dict_values(['김철수', 35, '인천'])\n",
      "dict_items([('name', '김철수'), ('age', 35), ('loc', '인천')])\n"
     ]
    }
   ],
   "source": [
    "person={\"name\":\"홍길동\",\"age\":25,\"loc\":\"수원\"}\n",
    "print(person[\"name\"],person[\"age\"],person[\"loc\"])\n",
    "person[\"name\"]=\"김철수\"\n",
    "person[\"age\"]=35\n",
    "person[\"loc\"]=\"인천\"\n",
    "print(person[\"name\"],person[\"age\"],person[\"loc\"])\n",
    "# json과 유사\n",
    "\n",
    "print(person.get(\"name\"),person.get(\"age\"),person.get(\"loc\")) \n",
    "#.get(\"키값\") : 딕셔너리 값에서 대상 키값의 벨류값을 리턴하는 메서드\n",
    "\n",
    "print(person.keys())\n",
    "#.keys() : 대상 딕셔너리의 키값들을 리스트로 리턴하는 메서드\n",
    "print(person.values())\n",
    "#.values() : 대상 딕셔너리의 벨류값들을 리스트로 리턴하는 메서드\n",
    "print(person.items())\n",
    "#.items() : 대상 딕셔너리의 키-벨류값 쌍들을 튜플로 묶어 리스트로 리턴하는 메서드"
   ]
  }
 ],
 "metadata": {
  "kernelspec": {
   "display_name": ".venv",
   "language": "python",
   "name": "python3"
  },
  "language_info": {
   "codemirror_mode": {
    "name": "ipython",
    "version": 3
   },
   "file_extension": ".py",
   "mimetype": "text/x-python",
   "name": "python",
   "nbconvert_exporter": "python",
   "pygments_lexer": "ipython3",
   "version": "3.10.6"
  }
 },
 "nbformat": 4,
 "nbformat_minor": 2
}
