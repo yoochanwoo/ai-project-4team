{
 "cells": [
  {
   "cell_type": "markdown",
   "metadata": {},
   "source": [
    "## 인덱스 수 규칙"
   ]
  },
  {
   "cell_type": "code",
   "execution_count": 2,
   "metadata": {},
   "outputs": [
    {
     "name": "stdout",
     "output_type": "stream",
     "text": [
      "4\n",
      "6\n",
      "[3, 4, 5, 6]\n",
      "[4, 5, 6, 7]\n"
     ]
    }
   ],
   "source": [
    "numbers = [1,2,3,4,5,6,7,8,9,10]\n",
    "'''\n",
    "데이터들의 끝쪽을 0부터 하고, 데이터를 넘어갈 때마다 1씩 증가\n",
    "[ 1 , 2 , 3 , 4 , 5 , 6 , 7 , 8 , 9 , 10 ]\n",
    " 0  1   2   3   4   5   6   7   8   9   10\n",
    "\n",
    "음수로 셀 수도 있음\n",
    " [ 1 , 2 , 3 , 4 , 5 , 6 , 7 , 8 , 9 , 10 ]\n",
    "-10 -9  -8  -7  -6  -5  -4  -3  -2  -1   0\n",
    "\n",
    "하나를 지정할 때(numbers[3])에는 해당 인덱스 값의 오른쪽 수를 추출함\n",
    "\n",
    "numbers[3]\n",
    "[ 1 , 2 , 3 ,'4', 5 , 6 , 7 , 8 , 9 , 10 ]\n",
    " 0  1   2  '3'  4   5   6   7   8   9   10\n",
    " \n",
    "numbers[-5]\n",
    " [ 1 , 2 , 3 , 4 , 5 ,'6', 7 , 8 , 9 , 10 ]\n",
    "-10 -9  -8  -7  -6 '-5' -4  -3  -2  -1   0\n",
    "'''\n",
    "print(numbers[3])\n",
    "print(numbers[-5])\n",
    "\n",
    "'''\n",
    "슬라이스로 추출할 때에는 해당 인덱스값 사이를 추출\n",
    "numbers[2:6]\n",
    "[ 1 , 2(, 3 , 4 , 5 , 6 ,)7 , 8 , 9 , 10 ]\n",
    " 0  1  (2   3   4   5   6)  7   8   9   10\n",
    " \n",
    "numbers[-7:-3]\n",
    " [ 1 , 2 , 3(, 4 , 5 , 6 , 7 ,)8 , 9 , 10 ]\n",
    "-10 -9  -8 (-7  -6  -5  -4  -3) -2  -1   0\n",
    "'''\n",
    "print(numbers[2:6])\n",
    "print(numbers[-7:-3])"
   ]
  }
 ],
 "metadata": {
  "kernelspec": {
   "display_name": ".venv",
   "language": "python",
   "name": "python3"
  },
  "language_info": {
   "codemirror_mode": {
    "name": "ipython",
    "version": 3
   },
   "file_extension": ".py",
   "mimetype": "text/x-python",
   "name": "python",
   "nbconvert_exporter": "python",
   "pygments_lexer": "ipython3",
   "version": "3.10.6"
  }
 },
 "nbformat": 4,
 "nbformat_minor": 2
}
