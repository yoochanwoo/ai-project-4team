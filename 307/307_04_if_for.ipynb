{
 "cells": [
  {
   "cell_type": "markdown",
   "metadata": {},
   "source": [
    "## if문"
   ]
  },
  {
   "cell_type": "code",
   "execution_count": null,
   "metadata": {},
   "outputs": [
    {
     "name": "stdout",
     "output_type": "stream",
     "text": [
      "합격하셨습니다\n",
      "홀수입니다\n"
     ]
    }
   ],
   "source": [
    "# 파이썬에서는 블럭구분을 중괄호로 하지 않음\n",
    "# 파이썬에서는 왼쪽에서부터 떨어진 거리로 블럭구분을 함\n",
    "# 블럭의 시작은 콜롬(:)을 사용\n",
    "# 보통 탭으로 블럭구분을 함\n",
    "score = 85\n",
    "if score>80:\n",
    "    print(\"합격하셨습니다\")\n",
    "\n",
    "number = 5\n",
    "if number%2==0:\n",
    "    print(\"짝수입니다\")\n",
    "else:\n",
    "    print(\"홀수입니다\")"
   ]
  },
  {
   "cell_type": "markdown",
   "metadata": {},
   "source": [
    "## for문"
   ]
  },
  {
   "cell_type": "code",
   "execution_count": null,
   "metadata": {},
   "outputs": [
    {
     "name": "stdout",
     "output_type": "stream",
     "text": [
      "2\n",
      "4\n",
      "6\n",
      "8\n",
      "10\n",
      "1\n",
      "2\n",
      "3\n",
      "4\n",
      "5\n",
      "index : 0\n",
      "item : A\n",
      "index : 1\n",
      "item : B\n",
      "index : 2\n",
      "item : C\n"
     ]
    }
   ],
   "source": [
    "numbers=[1,2,3,4,5]\n",
    "for number in numbers:\n",
    "    print(number*2)\n",
    "# for_each 형식 : 리스트 데이터를 모두 출력하는 방식\n",
    "for number in range(1,6):   # 1 <= number < 6\n",
    "    print(number)\n",
    "# for_reage 형식 : 시작, 끝, 증가값을 지정하는 방식\n",
    "# range(a,b,c) : a 이상 b 미만의 범위에서 c만큼 증가하면서 반복\n",
    "    \n",
    "items = [\"A\",\"B\",\"C\"]\n",
    "for idx,item in enumerate(items):\n",
    "    print(f\"index : {idx}\\nitem : {item}\")\n",
    "# for_enumerate 형식 : 리스트 데이터를 인덱스값과 함께 모두 출력하는 방식\n",
    "# a,b in enumerate(clist) : a는 clist의 인덱스값, b는 해당 인덱스에 해당하는 요소값"
   ]
  },
  {
   "cell_type": "markdown",
   "metadata": {},
   "source": [
    "## while문"
   ]
  },
  {
   "cell_type": "code",
   "execution_count": 5,
   "metadata": {},
   "outputs": [
    {
     "name": "stdout",
     "output_type": "stream",
     "text": [
      "0\n",
      "1\n",
      "2\n",
      "3\n",
      "4\n",
      "10\n",
      "비밀번호가 틀렸습니다\n",
      "비밀번호가 틀렸습니다\n",
      "비밀번호가 일치합니다\n"
     ]
    }
   ],
   "source": [
    "count = 0\n",
    "while count <5:\n",
    "    print(count)\n",
    "    count+=1\n",
    "    \n",
    "while True:\n",
    "    count+=1\n",
    "    if count==10:\n",
    "        print(count)\n",
    "        break\n",
    "# while의 조건문을 true로 할 경우 무한루프이므로 break 조건을 걸어야한다\n",
    "\n",
    "count=0\n",
    "while count<3:\n",
    "    pwd = input(\"비밀번호를 입력하세요 : \")\n",
    "    count += 1\n",
    "    if pwd==\"7777\":\n",
    "        print(\"비밀번호가 일치합니다\")\n",
    "        break\n",
    "    else:\n",
    "        print(\"비밀번호가 틀렸습니다\")\n",
    "else:\n",
    "    print(\"비밀번호를 3번 틀렸습니다\")"
   ]
  }
 ],
 "metadata": {
  "kernelspec": {
   "display_name": ".venv",
   "language": "python",
   "name": "python3"
  },
  "language_info": {
   "codemirror_mode": {
    "name": "ipython",
    "version": 3
   },
   "file_extension": ".py",
   "mimetype": "text/x-python",
   "name": "python",
   "nbconvert_exporter": "python",
   "pygments_lexer": "ipython3",
   "version": "3.10.6"
  }
 },
 "nbformat": 4,
 "nbformat_minor": 2
}
