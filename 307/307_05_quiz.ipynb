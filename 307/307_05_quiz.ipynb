{
 "cells": [
  {
   "cell_type": "markdown",
   "metadata": {},
   "source": [
    "## 계산기문제"
   ]
  },
  {
   "cell_type": "code",
   "execution_count": null,
   "metadata": {},
   "outputs": [
    {
     "name": "stdout",
     "output_type": "stream",
     "text": [
      "15\n",
      "15 /\n",
      "0으로 나눌 수 없습니다\n",
      "0으로 나눌 수 없습니다\n",
      "0으로 나눌 수 없습니다\n",
      "0으로 나눌 수 없습니다\n",
      "15 / 3 = 5\n",
      "5\n",
      "프로그램 종료\n"
     ]
    }
   ],
   "source": [
    "insmsg=\"를 입력하세요\"\n",
    "endmsg=\"프로그램 종료\"\n",
    "notnummsg=\"숫자가 아닙니다\"\n",
    "num1=input(f\"수{insmsg} : \")\n",
    "while not num1.isnumeric():\n",
    "    print(notnummsg)\n",
    "    num1=input(f\"수{insmsg} : \")\n",
    "num1 = int(num1)\n",
    "print(num1)\n",
    "num2=0\n",
    "num3=0\n",
    "while True:\n",
    "    calcu = input(f\"연산자{insmsg}(+,-,*,/) : \")\n",
    "    if calcu==\"q\":\n",
    "        print(endmsg)\n",
    "        break\n",
    "    while calcu!=\"+\" and calcu!=\"-\" and calcu!=\"*\" and calcu!=\"/\":\n",
    "        print(\"잘못된 연산자입니다\")\n",
    "        calcu = input(f\"연산자{insmsg}(+,-,*,/) : \")\n",
    "        if calcu==\"q\":\n",
    "            print(endmsg)\n",
    "            break\n",
    "    print(num1, calcu)\n",
    "    if calcu==\"+\":\n",
    "        num2 = input(f\"더할 수{insmsg} : \")\n",
    "        if num2==\"q\":\n",
    "            print(endmsg)\n",
    "            break\n",
    "        while not num2.isnumeric():\n",
    "            print(notnummsg)\n",
    "            num2=input(f\"더할 수{insmsg} : \")\n",
    "        num2 = int(num2)\n",
    "        num3=num1+num2\n",
    "        print(f\"{num1} {calcu} {num2} = {num3}\")\n",
    "    elif calcu==\"-\":\n",
    "        num2 = input(f\"뺄 수{insmsg} : \")\n",
    "        if num2==\"q\":\n",
    "            print(endmsg)\n",
    "            break\n",
    "        while not num2.isnumeric():\n",
    "            print(notnummsg)\n",
    "            num2=input(f\"뺄 수{insmsg} : \")\n",
    "        num2 = int(num2)\n",
    "        num3=num1-num2\n",
    "        print(f\"{num1} {calcu} {num2} = {num3}\")\n",
    "    elif calcu==\"*\":\n",
    "        num2 = input(f\"곱할 수{insmsg} : \")\n",
    "        if num2==\"q\":\n",
    "            print(endmsg)\n",
    "            break\n",
    "        while not num2.isnumeric():\n",
    "            print(notnummsg)\n",
    "            num2=input(f\"곱할 수{insmsg} : \")\n",
    "        num2 = int(num2)\n",
    "        num3=num1*num2\n",
    "        print(f\"{num1} {calcu} {num2} = {num3}\")\n",
    "    elif calcu==\"/\":\n",
    "        num2 = input(f\"나눌 수{insmsg} : \")\n",
    "        if num2==\"q\":\n",
    "            print(endmsg)\n",
    "            break\n",
    "        while not num2.isnumeric() or num2==\"0\":\n",
    "            if num2==\"0\":\n",
    "                print(notnummsg)\n",
    "            elif not num2.isnumeric():\n",
    "                print(\"0으로 나눌 수 없습니다\")\n",
    "            num2=input(f\"나눌 수{insmsg} : \")\n",
    "        num2 = int(num2)\n",
    "        num3=num1/num2\n",
    "        num3 = int(num3)\n",
    "        print(f\"{num1} {calcu} {num2} = {num3}\")\n",
    "    print(num3)\n",
    "    num1=num3"
   ]
  }
 ],
 "metadata": {
  "kernelspec": {
   "display_name": ".venv",
   "language": "python",
   "name": "python3"
  },
  "language_info": {
   "codemirror_mode": {
    "name": "ipython",
    "version": 3
   },
   "file_extension": ".py",
   "mimetype": "text/x-python",
   "name": "python",
   "nbconvert_exporter": "python",
   "pygments_lexer": "ipython3",
   "version": "3.10.6"
  }
 },
 "nbformat": 4,
 "nbformat_minor": 2
}
