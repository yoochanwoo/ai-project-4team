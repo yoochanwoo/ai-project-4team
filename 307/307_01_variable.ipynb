{
 "cells": [
  {
   "cell_type": "markdown",
   "metadata": {},
   "source": [
    "## 문법"
   ]
  },
  {
   "cell_type": "code",
   "execution_count": 2,
   "metadata": {},
   "outputs": [
    {
     "name": "stdout",
     "output_type": "stream",
     "text": [
      "hello\n",
      "10 -4 3.14 -2.718\n"
     ]
    }
   ],
   "source": [
    "print(\"hello\")\n",
    "\n",
    "num1 = 10\n",
    "num2 = -4\n",
    "num3 = 3.14\n",
    "num4 = -2.718\n",
    "print(num1, num2, num3, num4)"
   ]
  },
  {
   "cell_type": "markdown",
   "metadata": {},
   "source": [
    "## 문자열"
   ]
  },
  {
   "cell_type": "code",
   "execution_count": 1,
   "metadata": {},
   "outputs": [
    {
     "name": "stdout",
     "output_type": "stream",
     "text": [
      "hello python\n",
      "multi-line\n",
      "string\n",
      "hello\n",
      "python\n"
     ]
    }
   ],
   "source": [
    "# 문자열\n",
    "str1 = \"hello\"\n",
    "str2 = 'python'\n",
    "print(str1, str2)\n",
    "\n",
    "# 다중열 문자열\n",
    "str3 = '''multi-line\n",
    "string'''\n",
    "str4 = \"\"\"hello\n",
    "python\"\"\"\n",
    "print(str3)\n",
    "print(str4)"
   ]
  }
 ],
 "metadata": {
  "kernelspec": {
   "display_name": ".venv",
   "language": "python",
   "name": "python3"
  },
  "language_info": {
   "codemirror_mode": {
    "name": "ipython",
    "version": 3
   },
   "file_extension": ".py",
   "mimetype": "text/x-python",
   "name": "python",
   "nbconvert_exporter": "python",
   "pygments_lexer": "ipython3",
   "version": "3.10.6"
  }
 },
 "nbformat": 4,
 "nbformat_minor": 2
}
