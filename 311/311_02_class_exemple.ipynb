{
 "cells": [
  {
   "cell_type": "markdown",
   "metadata": {},
   "source": [
    "## calculator"
   ]
  },
  {
   "cell_type": "code",
   "execution_count": null,
   "metadata": {},
   "outputs": [
    {
     "name": "stdout",
     "output_type": "stream",
     "text": [
      "__main__\n",
      "Addition of 10 and 5: 15\n",
      "Subtraction of 10 and 5: 5\n",
      "Multiplication of 10 and 5: 50\n",
      "Division of 10 and 5: 2.0\n"
     ]
    }
   ],
   "source": [
    "from calculExe import MathOperations\n",
    "# calculExe라는 py파일을 찾아서 MathOperations 라는 클래스를 호출함\n",
    "\n",
    "class Calculator:\n",
    "    def __init__(self):\n",
    "        self.math_operations = MathOperations()\n",
    "\n",
    "    def perform_operations(self, a, b):\n",
    "        print(f\"Addition of {a} and {b}: {self.math_operations.add(a, b)}\")\n",
    "        print(f\"Subtraction of {a} and {b}: {self.math_operations.subtract(a, b)}\")\n",
    "        print(f\"Multiplication of {a} and {b}: {self.math_operations.multiply(a, b)}\")\n",
    "        print(f\"Division of {a} and {b}: {self.math_operations.divide(a, b)}\")\n",
    "\n",
    "# 실행 예제\n",
    "print(__name__)\n",
    "# 이 파일의 내용이 실행될 때, 이 파일을 직접 실행하면 __name__ == \"__main__\"\n",
    "# 외부에서 이 파일을 실행하면 __name__ == \"311_02_class_exemple\"\n",
    "# 애초에 import로 호출하려면(파일끼리의 상속을 하려면) py 파일이어야 함\n",
    "if __name__ == \"__main__\":\n",
    "    calculator = Calculator()\n",
    "    calculator.perform_operations(10, 5)"
   ]
  },
  {
   "cell_type": "markdown",
   "metadata": {},
   "source": [
    "## calculExe의 내용"
   ]
  },
  {
   "cell_type": "code",
   "execution_count": null,
   "metadata": {},
   "outputs": [],
   "source": [
    "class MathOperations:\n",
    "    def add(self, a, b):\n",
    "        return a + b\n",
    "\n",
    "    def subtract(self, a, b):\n",
    "        return a - b\n",
    "\n",
    "    def multiply(self, a, b):\n",
    "        return a * b\n",
    "\n",
    "    def divide(self, a, b):\n",
    "        if b != 0:\n",
    "            return a / b\n",
    "        else:\n",
    "            return \"Division by zero is not allowed\""
   ]
  }
 ],
 "metadata": {
  "kernelspec": {
   "display_name": ".venv",
   "language": "python",
   "name": "python3"
  },
  "language_info": {
   "codemirror_mode": {
    "name": "ipython",
    "version": 3
   },
   "file_extension": ".py",
   "mimetype": "text/x-python",
   "name": "python",
   "nbconvert_exporter": "python",
   "pygments_lexer": "ipython3",
   "version": "3.10.6"
  }
 },
 "nbformat": 4,
 "nbformat_minor": 2
}
