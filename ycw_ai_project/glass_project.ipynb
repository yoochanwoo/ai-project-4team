{
 "cells": [
  {
   "cell_type": "code",
   "execution_count": 3,
   "metadata": {},
   "outputs": [
    {
     "name": "stdout",
     "output_type": "stream",
     "text": [
      "Requirement already satisfied: annotated-types==0.7.0 in c:\\newtest\\myenv\\lib\\site-packages (from -r requirements.txt (line 1)) (0.7.0)\n",
      "Requirement already satisfied: asttokens==3.0.0 in c:\\newtest\\myenv\\lib\\site-packages (from -r requirements.txt (line 2)) (3.0.0)\n",
      "Requirement already satisfied: attrs==25.2.0 in c:\\newtest\\myenv\\lib\\site-packages (from -r requirements.txt (line 3)) (25.2.0)\n",
      "Requirement already satisfied: certifi==2025.1.31 in c:\\newtest\\myenv\\lib\\site-packages (from -r requirements.txt (line 4)) (2025.1.31)\n",
      "Requirement already satisfied: charset-normalizer==3.4.1 in c:\\newtest\\myenv\\lib\\site-packages (from -r requirements.txt (line 5)) (3.4.1)\n",
      "Requirement already satisfied: colorama==0.4.6 in c:\\newtest\\myenv\\lib\\site-packages (from -r requirements.txt (line 6)) (0.4.6)\n",
      "Requirement already satisfied: comm==0.2.2 in c:\\newtest\\myenv\\lib\\site-packages (from -r requirements.txt (line 7)) (0.2.2)\n",
      "Requirement already satisfied: contourpy==1.3.1 in c:\\newtest\\myenv\\lib\\site-packages (from -r requirements.txt (line 8)) (1.3.1)\n",
      "Requirement already satisfied: cycler==0.12.1 in c:\\newtest\\myenv\\lib\\site-packages (from -r requirements.txt (line 9)) (0.12.1)\n",
      "Requirement already satisfied: dacite==1.9.2 in c:\\newtest\\myenv\\lib\\site-packages (from -r requirements.txt (line 10)) (1.9.2)\n",
      "Requirement already satisfied: debugpy==1.8.13 in c:\\newtest\\myenv\\lib\\site-packages (from -r requirements.txt (line 11)) (1.8.13)\n",
      "Requirement already satisfied: decorator==5.2.1 in c:\\newtest\\myenv\\lib\\site-packages (from -r requirements.txt (line 12)) (5.2.1)\n",
      "Requirement already satisfied: exceptiongroup==1.2.2 in c:\\newtest\\myenv\\lib\\site-packages (from -r requirements.txt (line 13)) (1.2.2)\n",
      "Requirement already satisfied: executing==2.2.0 in c:\\newtest\\myenv\\lib\\site-packages (from -r requirements.txt (line 14)) (2.2.0)\n",
      "Requirement already satisfied: fonttools==4.56.0 in c:\\newtest\\myenv\\lib\\site-packages (from -r requirements.txt (line 15)) (4.56.0)\n",
      "Requirement already satisfied: htmlmin==0.1.12 in c:\\newtest\\myenv\\lib\\site-packages (from -r requirements.txt (line 16)) (0.1.12)\n",
      "Requirement already satisfied: idna==3.10 in c:\\newtest\\myenv\\lib\\site-packages (from -r requirements.txt (line 17)) (3.10)\n",
      "Requirement already satisfied: ImageHash==4.3.1 in c:\\newtest\\myenv\\lib\\site-packages (from -r requirements.txt (line 18)) (4.3.1)\n",
      "Requirement already satisfied: ipykernel==6.29.5 in c:\\newtest\\myenv\\lib\\site-packages (from -r requirements.txt (line 19)) (6.29.5)\n",
      "Requirement already satisfied: ipython==8.33.0 in c:\\newtest\\myenv\\lib\\site-packages (from -r requirements.txt (line 20)) (8.33.0)\n",
      "Requirement already satisfied: jedi==0.19.2 in c:\\newtest\\myenv\\lib\\site-packages (from -r requirements.txt (line 21)) (0.19.2)\n",
      "Requirement already satisfied: Jinja2==3.1.6 in c:\\newtest\\myenv\\lib\\site-packages (from -r requirements.txt (line 22)) (3.1.6)\n",
      "Requirement already satisfied: joblib==1.4.2 in c:\\newtest\\myenv\\lib\\site-packages (from -r requirements.txt (line 23)) (1.4.2)\n",
      "Requirement already satisfied: jupyter_client==8.6.3 in c:\\newtest\\myenv\\lib\\site-packages (from -r requirements.txt (line 24)) (8.6.3)\n",
      "Requirement already satisfied: jupyter_core==5.7.2 in c:\\newtest\\myenv\\lib\\site-packages (from -r requirements.txt (line 25)) (5.7.2)\n",
      "Requirement already satisfied: kiwisolver==1.4.8 in c:\\newtest\\myenv\\lib\\site-packages (from -r requirements.txt (line 26)) (1.4.8)\n",
      "Requirement already satisfied: llvmlite==0.44.0 in c:\\newtest\\myenv\\lib\\site-packages (from -r requirements.txt (line 27)) (0.44.0)\n",
      "Requirement already satisfied: MarkupSafe==3.0.2 in c:\\newtest\\myenv\\lib\\site-packages (from -r requirements.txt (line 28)) (3.0.2)\n",
      "Requirement already satisfied: matplotlib==3.10.0 in c:\\newtest\\myenv\\lib\\site-packages (from -r requirements.txt (line 29)) (3.10.0)\n",
      "Requirement already satisfied: matplotlib-inline==0.1.7 in c:\\newtest\\myenv\\lib\\site-packages (from -r requirements.txt (line 30)) (0.1.7)\n",
      "Requirement already satisfied: multimethod==1.12 in c:\\newtest\\myenv\\lib\\site-packages (from -r requirements.txt (line 31)) (1.12)\n",
      "Requirement already satisfied: nest-asyncio==1.6.0 in c:\\newtest\\myenv\\lib\\site-packages (from -r requirements.txt (line 32)) (1.6.0)\n",
      "Requirement already satisfied: networkx==3.4.2 in c:\\newtest\\myenv\\lib\\site-packages (from -r requirements.txt (line 33)) (3.4.2)\n",
      "Requirement already satisfied: numba==0.61.0 in c:\\newtest\\myenv\\lib\\site-packages (from -r requirements.txt (line 34)) (0.61.0)\n",
      "Requirement already satisfied: numpy==2.1.3 in c:\\newtest\\myenv\\lib\\site-packages (from -r requirements.txt (line 35)) (2.1.3)\n",
      "Requirement already satisfied: packaging==24.2 in c:\\newtest\\myenv\\lib\\site-packages (from -r requirements.txt (line 36)) (24.2)\n",
      "Requirement already satisfied: pandas==2.2.3 in c:\\newtest\\myenv\\lib\\site-packages (from -r requirements.txt (line 37)) (2.2.3)\n",
      "Requirement already satisfied: parso==0.8.4 in c:\\newtest\\myenv\\lib\\site-packages (from -r requirements.txt (line 38)) (0.8.4)\n",
      "Requirement already satisfied: patsy==1.0.1 in c:\\newtest\\myenv\\lib\\site-packages (from -r requirements.txt (line 39)) (1.0.1)\n",
      "Requirement already satisfied: phik==0.12.4 in c:\\newtest\\myenv\\lib\\site-packages (from -r requirements.txt (line 40)) (0.12.4)\n",
      "Requirement already satisfied: pillow==11.1.0 in c:\\newtest\\myenv\\lib\\site-packages (from -r requirements.txt (line 41)) (11.1.0)\n",
      "Requirement already satisfied: platformdirs==4.3.6 in c:\\newtest\\myenv\\lib\\site-packages (from -r requirements.txt (line 42)) (4.3.6)\n",
      "Requirement already satisfied: prompt_toolkit==3.0.50 in c:\\newtest\\myenv\\lib\\site-packages (from -r requirements.txt (line 43)) (3.0.50)\n",
      "Requirement already satisfied: psutil==7.0.0 in c:\\newtest\\myenv\\lib\\site-packages (from -r requirements.txt (line 44)) (7.0.0)\n",
      "Requirement already satisfied: pure_eval==0.2.3 in c:\\newtest\\myenv\\lib\\site-packages (from -r requirements.txt (line 45)) (0.2.3)\n",
      "Requirement already satisfied: puremagic==1.28 in c:\\newtest\\myenv\\lib\\site-packages (from -r requirements.txt (line 46)) (1.28)\n",
      "Requirement already satisfied: pydantic==2.10.6 in c:\\newtest\\myenv\\lib\\site-packages (from -r requirements.txt (line 47)) (2.10.6)\n",
      "Requirement already satisfied: pydantic_core==2.27.2 in c:\\newtest\\myenv\\lib\\site-packages (from -r requirements.txt (line 48)) (2.27.2)\n",
      "Requirement already satisfied: Pygments==2.19.1 in c:\\newtest\\myenv\\lib\\site-packages (from -r requirements.txt (line 49)) (2.19.1)\n",
      "Requirement already satisfied: pyparsing==3.2.1 in c:\\newtest\\myenv\\lib\\site-packages (from -r requirements.txt (line 50)) (3.2.1)\n",
      "Requirement already satisfied: python-dateutil==2.9.0.post0 in c:\\newtest\\myenv\\lib\\site-packages (from -r requirements.txt (line 51)) (2.9.0.post0)\n",
      "Requirement already satisfied: pytz==2025.1 in c:\\newtest\\myenv\\lib\\site-packages (from -r requirements.txt (line 52)) (2025.1)\n",
      "Requirement already satisfied: PyWavelets==1.8.0 in c:\\newtest\\myenv\\lib\\site-packages (from -r requirements.txt (line 53)) (1.8.0)\n",
      "Requirement already satisfied: pywin32==308 in c:\\newtest\\myenv\\lib\\site-packages (from -r requirements.txt (line 54)) (308)\n",
      "Requirement already satisfied: PyYAML==6.0.2 in c:\\newtest\\myenv\\lib\\site-packages (from -r requirements.txt (line 55)) (6.0.2)\n",
      "Requirement already satisfied: pyzmq==26.2.1 in c:\\newtest\\myenv\\lib\\site-packages (from -r requirements.txt (line 56)) (26.2.1)\n",
      "Requirement already satisfied: requests==2.32.3 in c:\\newtest\\myenv\\lib\\site-packages (from -r requirements.txt (line 57)) (2.32.3)\n",
      "Requirement already satisfied: scikit-learn==1.6.1 in c:\\newtest\\myenv\\lib\\site-packages (from -r requirements.txt (line 58)) (1.6.1)\n",
      "Requirement already satisfied: scipy==1.15.2 in c:\\newtest\\myenv\\lib\\site-packages (from -r requirements.txt (line 59)) (1.15.2)\n",
      "Requirement already satisfied: seaborn==0.13.2 in c:\\newtest\\myenv\\lib\\site-packages (from -r requirements.txt (line 60)) (0.13.2)\n",
      "Requirement already satisfied: six==1.17.0 in c:\\newtest\\myenv\\lib\\site-packages (from -r requirements.txt (line 61)) (1.17.0)\n",
      "Requirement already satisfied: stack-data==0.6.3 in c:\\newtest\\myenv\\lib\\site-packages (from -r requirements.txt (line 62)) (0.6.3)\n",
      "Requirement already satisfied: statsmodels==0.14.4 in c:\\newtest\\myenv\\lib\\site-packages (from -r requirements.txt (line 63)) (0.14.4)\n",
      "Requirement already satisfied: threadpoolctl==3.5.0 in c:\\newtest\\myenv\\lib\\site-packages (from -r requirements.txt (line 64)) (3.5.0)\n",
      "Requirement already satisfied: tornado==6.4.2 in c:\\newtest\\myenv\\lib\\site-packages (from -r requirements.txt (line 65)) (6.4.2)\n",
      "Requirement already satisfied: tqdm==4.67.1 in c:\\newtest\\myenv\\lib\\site-packages (from -r requirements.txt (line 66)) (4.67.1)\n",
      "Requirement already satisfied: traitlets==5.14.3 in c:\\newtest\\myenv\\lib\\site-packages (from -r requirements.txt (line 67)) (5.14.3)\n",
      "Requirement already satisfied: typeguard==4.4.2 in c:\\newtest\\myenv\\lib\\site-packages (from -r requirements.txt (line 68)) (4.4.2)\n",
      "Requirement already satisfied: typing_extensions==4.12.2 in c:\\newtest\\myenv\\lib\\site-packages (from -r requirements.txt (line 69)) (4.12.2)\n",
      "Requirement already satisfied: tzdata==2025.1 in c:\\newtest\\myenv\\lib\\site-packages (from -r requirements.txt (line 70)) (2025.1)\n",
      "Requirement already satisfied: urllib3==2.3.0 in c:\\newtest\\myenv\\lib\\site-packages (from -r requirements.txt (line 71)) (2.3.0)\n",
      "Requirement already satisfied: visions==0.8.1 in c:\\newtest\\myenv\\lib\\site-packages (from -r requirements.txt (line 72)) (0.8.1)\n",
      "Requirement already satisfied: wcwidth==0.2.13 in c:\\newtest\\myenv\\lib\\site-packages (from -r requirements.txt (line 73)) (0.2.13)\n",
      "Requirement already satisfied: wordcloud==1.9.4 in c:\\newtest\\myenv\\lib\\site-packages (from -r requirements.txt (line 74)) (1.9.4)\n",
      "Requirement already satisfied: ydata-profiling==4.14.0 in c:\\newtest\\myenv\\lib\\site-packages (from -r requirements.txt (line 75)) (4.14.0)\n",
      "Note: you may need to restart the kernel to use updated packages.\n"
     ]
    },
    {
     "name": "stderr",
     "output_type": "stream",
     "text": [
      "WARNING: visions 0.8.1 does not provide the extra 'type_image_path'\n",
      "\n",
      "[notice] A new release of pip available: 22.2.1 -> 25.0.1\n",
      "[notice] To update, run: python.exe -m pip install --upgrade pip\n"
     ]
    }
   ],
   "source": [
    "%pip install -r requirements.txt"
   ]
  },
  {
   "cell_type": "code",
   "execution_count": null,
   "metadata": {},
   "outputs": [
    {
     "name": "stderr",
     "output_type": "stream",
     "text": [
      "c:\\NEWTEST\\myenv\\lib\\site-packages\\tqdm\\auto.py:21: TqdmWarning: IProgress not found. Please update jupyter and ipywidgets. See https://ipywidgets.readthedocs.io/en/stable/user_install.html\n",
      "  from .autonotebook import tqdm as notebook_tqdm\n"
     ]
    },
    {
     "data": {
      "text/html": [
       "\n",
       "            <div>\n",
       "                <ins><a href=\"ttps://ydata.ai/register\">Upgrade to ydata-sdk</a></ins>\n",
       "                <p>\n",
       "                    Improve your data and profiling with ydata-sdk, featuring data quality scoring, redundancy detection, outlier identification, text validation, and synthetic data generation.\n",
       "                </p>\n",
       "            </div>\n",
       "            "
      ],
      "text/plain": [
       "<IPython.core.display.HTML object>"
      ]
     },
     "metadata": {},
     "output_type": "display_data"
    },
    {
     "name": "stdout",
     "output_type": "stream",
     "text": [
      "Accuracy: 0.8140\n",
      "Accuracy: 0.7209\n",
      "Accuracy: 0.6977\n",
      "\n",
      "Classification Report:\n",
      "               precision    recall  f1-score   support\n",
      "\n",
      "           1       0.73      1.00      0.85        11\n",
      "           2       0.82      0.64      0.72        14\n",
      "           3       1.00      0.67      0.80         3\n",
      "           5       0.67      0.50      0.57         4\n",
      "           6       1.00      1.00      1.00         3\n",
      "           7       0.89      1.00      0.94         8\n",
      "\n",
      "    accuracy                           0.81        43\n",
      "   macro avg       0.85      0.80      0.81        43\n",
      "weighted avg       0.82      0.81      0.80        43\n",
      "\n"
     ]
    }
   ],
   "source": [
    "import pandas as pd\n",
    "from ydata_profiling import ProfileReport\n",
    "from sklearn.preprocessing import StandardScaler\n",
    "from sklearn.model_selection import train_test_split, GridSearchCV\n",
    "from sklearn.ensemble import RandomForestClassifier\n",
    "from sklearn.tree import DecisionTreeClassifier\n",
    "from sklearn.neighbors import KNeighborsClassifier\n",
    "from sklearn.metrics import accuracy_score, confusion_matrix, classification_report\n",
    "import matplotlib.pyplot as plt\n",
    "import seaborn as sns\n",
    "\n",
    "# 데이터 로드\n",
    "\"\"\"\n",
    "ID 번호: 1~214(CSV 파일에서 제거됨)\n",
    "RI: 굴절률\n",
    "Na: 나트륨(단위 측정: 해당 산화물의 중량 백분율, 속성 4-10과 동일)\n",
    "Mg: 마그네슘\n",
    "Al: 알루미늄\n",
    "Si: 실리콘\n",
    "K: 칼륨\n",
    "Ca: 칼슘\n",
    "바륨(Ba): 바륨\n",
    "Fe: 철\n",
    "유리 종류: (클래스 속성)\n",
    "-- 1 건물_창문_부동_가공됨\n",
    "-- 2 건물_창문_비부동_가공됨\n",
    "-- 3 차량_창문_부동_가공됨\n",
    "-- 4 차량_창문_비부동_가공됨(이 데이터베이스에 없음)\n",
    "-- 5 용기\n",
    "-- 6 식기\n",
    "-- 7 헤드램프\n",
    "\"\"\"\n",
    "hpq_data = pd.read_csv('dataset/glass.csv')\n",
    "#print(hpq_data.head())\n",
    "#print(hpq_data.isnull().sum()) # 결측치 확인\n",
    "\n",
    "X = hpq_data.iloc[:,:-1].values\n",
    "#print(X)\n",
    "y = hpq_data.iloc[:,-1].values\n",
    "#print(y)\n",
    "\n",
    "XColumns = list(hpq_data.columns[:-1])\n",
    "\n",
    "# 스케일링 처리\n",
    "# 데이터 프레임으로 변환\n",
    "Xdf = pd.DataFrame(X, columns = XColumns)     \n",
    "#print(Xdf)\n",
    "\n",
    "# 데이터 전처리: 특성 스케일링\n",
    "scaler = StandardScaler()\n",
    "X_scaled = scaler.fit_transform(Xdf)\n",
    "X_scaled = pd.DataFrame(X_scaled, columns=Xdf.columns)\n",
    "\n",
    "# 데이터 분할\n",
    "X_train, X_test, y_train, y_test = train_test_split(X_scaled, y, test_size=0.2, random_state=42)\n",
    "\n",
    "# 머신러닝 모델\n",
    "## 랜덤포레스트\n",
    "rf_model = RandomForestClassifier(random_state=42, n_estimators=100) # n_esimators : 모델을 구성하는 결정 틀의 개수수\n",
    "# Random Forest 모델 생성\n",
    "# 하이퍼파라미터 튜닝을 위해 GridSearchCV 사용\n",
    "param_grid = {\n",
    "    'n_estimators': [50, 100, 200],  # 트리의 개수\n",
    "    'max_depth': [4, 6, 8],       # 트리의 최대 깊이\n",
    "    'min_samples_split': [2, 4],  # 노드를 분할하기 위한 최소 샘플 수\n",
    "    'min_samples_leaf': [1, 2]    # 리프 노드에 있어야 하는 최소 샘플 수\n",
    "}\n",
    "# 교차 검증 cv =3 : 훈련 데이터를 3개의 FOLD(묶음)으로 나누어서 두개를 훈련, 나머지는 검증 용도로 활용\n",
    "# 교차 검증은 최적의 하이퍼 파라미터 값을 찾기 위해서 사용됨\n",
    "grid_search = GridSearchCV(estimator=rf_model, param_grid=param_grid, cv=3, scoring='accuracy')\n",
    "\n",
    "## 의사결정나무\n",
    "dtr_model = DecisionTreeClassifier(random_state=42)\n",
    "\n",
    "## KNN\n",
    "k = 5  # K 값 설정 (이웃의 수)\n",
    "knn = KNeighborsClassifier(n_neighbors=k) # 모델 생성\n",
    "\n",
    "# 학습\n",
    "## 랜덤포레스트\n",
    "# 모델 학습 (GridSearchCV를 통한 최적의 파라미터를 반영한 학습)\n",
    "grid_search.fit(X_train, y_train)\n",
    "# 최적의 모델 저장\n",
    "best_rf_model = grid_search.best_estimator_\n",
    "rf_y_pred = best_rf_model.predict(X_test)\n",
    "\n",
    "## 의사결정나무\n",
    "dtr_model.fit(X_train, y_train)\n",
    "dtr_y_pred = dtr_model.predict(X_test)\n",
    "\n",
    "## KNN\n",
    "knn.fit(X_train, y_train)\n",
    "knn_y_pred = knn.predict(X_test)\n",
    "\n",
    "# 평가\n",
    "rf_accuracy = accuracy_score(y_test, rf_y_pred) # 정확도 계산\n",
    "print(f\"Accuracy: {rf_accuracy:.4f}\") # 결과 출력 : 1.0000\n",
    "\n",
    "dtr_accuracy = accuracy_score(y_test, dtr_y_pred)\n",
    "print(f\"Accuracy: {dtr_accuracy:.4f}\")\n",
    "\n",
    "knn_accuracy = accuracy_score(y_test, knn_y_pred)\n",
    "print(f\"Accuracy: {knn_accuracy:.4f}\")\n",
    "# 랜덤포레스트 - 0.8140\n",
    "# 의사결정나무 - 0.7209\n",
    "# KNN - 0.6977\n",
    "# 랜덤포레스트의 정확도가 가장 높다\n",
    "# 랜덤포레스트 사용하기로 결정\n",
    "print(\"\\nClassification Report:\\n\", classification_report(y_test, rf_y_pred))"
   ]
  },
  {
   "cell_type": "code",
   "execution_count": 5,
   "metadata": {},
   "outputs": [
    {
     "data": {
      "image/png": "[encoded data removed]",
      "text/plain": [
       "<Figure size 800x600 with 2 Axes>"
      ]
     },
     "metadata": {},
     "output_type": "display_data"
    }
   ],
   "source": [
    "# 의사결정나무 혼동 행렬 (Confusion Matrix) 시각화\n",
    "rf_cm = confusion_matrix(y_test, rf_y_pred)\n",
    "plt.figure(figsize=(8, 6))\n",
    "# annot=True : 각 셀안의 숫자값을 표시, fmt=\"d\" : 숫자값을 정수형태로 표시, cmap=\"Blues\" : 색상값은 블루\n",
    "sns.heatmap(rf_cm, annot=True, fmt=\"d\", cmap=\"Blues\")\n",
    "plt.title(\"Confusion Matrix\")\n",
    "plt.xlabel(\"Predicted Label\")\n",
    "plt.ylabel(\"True Label\")\n",
    "plt.show()"
   ]
  },
  {
   "cell_type": "code",
   "execution_count": 6,
   "metadata": {},
   "outputs": [
    {
     "data": {
      "image/png": "[encoded data removed]",
      "text/plain": [
       "<Figure size 1000x600 with 1 Axes>"
      ]
     },
     "metadata": {},
     "output_type": "display_data"
    },
    {
     "data": {
      "text/plain": [
       "'\\nRI: 굴절률\\nNa: 나트륨(단위 측정: 해당 산화물의 중량 백분율, 속성 4-10과 동일)\\nMg: 마그네슘\\nAl: 알루미늄\\nSi: 실리콘\\nK: 칼륨\\nCa: 칼슘\\n바륨(Ba): 바륨\\nFe: 철\\n'"
      ]
     },
     "execution_count": 6,
     "metadata": {},
     "output_type": "execute_result"
    }
   ],
   "source": [
    "# Feature Importance 시각화\n",
    "feature_importances = best_rf_model.feature_importances_\n",
    "feature_importance_df = pd.DataFrame({'feature': XColumns, 'importance': feature_importances})\n",
    "feature_importance_df = feature_importance_df.sort_values('importance', ascending=False)\n",
    "\n",
    "plt.figure(figsize=(10, 6))\n",
    "sns.barplot(x='importance', y='feature', data=feature_importance_df)\n",
    "plt.title('Feature Importances')\n",
    "plt.show()\n",
    "\"\"\"\n",
    "RI: 굴절률\n",
    "Na: 나트륨(단위 측정: 해당 산화물의 중량 백분율, 속성 4-10과 동일)\n",
    "Mg: 마그네슘\n",
    "Al: 알루미늄\n",
    "Si: 실리콘\n",
    "K: 칼륨\n",
    "Ca: 칼슘\n",
    "바륨(Ba): 바륨\n",
    "Fe: 철\n",
    "\"\"\""
   ]
  },
  {
   "cell_type": "code",
   "execution_count": 7,
   "metadata": {},
   "outputs": [
    {
     "name": "stderr",
     "output_type": "stream",
     "text": [
      "Summarize dataset: 100%|██████████| 119/119 [00:08<00:00, 13.26it/s, Completed]                \n",
      "Generate report structure: 100%|██████████| 1/1 [00:02<00:00,  2.51s/it]\n",
      "Render HTML: 100%|██████████| 1/1 [00:01<00:00,  1.80s/it]\n",
      "Export report to file: 100%|██████████| 1/1 [00:00<00:00, 70.49it/s]\n"
     ]
    }
   ],
   "source": [
    "# YData Profiling으로 데이터 프로파일링 보고서 생성\n",
    "profile = ProfileReport(hpq_data, title=\"Glass Dataset Profiling Report\", explorative=True)\n",
    "\n",
    "# 보고서를 HTML 파일로 저장\n",
    "profile.to_file('report/glass_diabetes_profiling_report.html')\n",
    "#print(\"프로파일링 보고서가 생성되었습니다\")"
   ]
  }
 ],
 "metadata": {
  "kernelspec": {
   "display_name": "myenv",
   "language": "python",
   "name": "python3"
  },
  "language_info": {
   "codemirror_mode": {
    "name": "ipython",
    "version": 3
   },
   "file_extension": ".py",
   "mimetype": "text/x-python",
   "name": "python",
   "nbconvert_exporter": "python",
   "pygments_lexer": "ipython3",
   "version": "3.10.6"
  }
 },
 "nbformat": 4,
 "nbformat_minor": 2
}
