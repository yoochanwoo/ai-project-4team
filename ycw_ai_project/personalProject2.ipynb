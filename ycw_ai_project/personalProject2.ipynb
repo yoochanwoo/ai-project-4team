{
 "cells": [
  {
   "cell_type": "markdown",
   "metadata": {},
   "source": [
    "## 거래사기 지표"
   ]
  },
  {
   "cell_type": "markdown",
   "metadata": {},
   "source": [
    "### 랜덤 포레스트"
   ]
  },
  {
   "cell_type": "markdown",
   "metadata": {},
   "source": [
    "#### 모든 데이터로 학습"
   ]
  },
  {
   "cell_type": "code",
   "execution_count": 51,
   "metadata": {},
   "outputs": [
    {
     "name": "stdout",
     "output_type": "stream",
     "text": [
      "Transaction_ID                         0\n",
      "User_ID                                0\n",
      "Transaction_Amount                  2520\n",
      "Transaction_Type                       0\n",
      "Time_of_Transaction                 2552\n",
      "Device_Used                         2473\n",
      "Location                            2547\n",
      "Previous_Fraudulent_Transactions       0\n",
      "Account_Age                            0\n",
      "Number_of_Transactions_Last_24H        0\n",
      "Payment_Method                      2469\n",
      "Fraudulent                             0\n",
      "dtype: int64\n",
      "Transaction_ID                      0\n",
      "User_ID                             0\n",
      "Transaction_Amount                  0\n",
      "Transaction_Type                    0\n",
      "Time_of_Transaction                 0\n",
      "Device_Used                         0\n",
      "Location                            0\n",
      "Previous_Fraudulent_Transactions    0\n",
      "Account_Age                         0\n",
      "Number_of_Transactions_Last_24H     0\n",
      "Payment_Method                      0\n",
      "Fraudulent                          0\n",
      "dtype: int64\n",
      "['ATM Withdrawal', 'Bill Payment', 'POS Payment', 'Bank Transfer', 'Online Purchase']\n",
      "['Tablet', 'Mobile', 'Desktop', 'Unknown Device']\n",
      "['San Francisco', 'New York', 'Chicago', 'Boston', 'Houston', 'Miami', 'Los Angeles', 'Seattle']\n",
      "['Debit Card', 'Credit Card', 'UPI', 'Net Banking', 'Invalid Method']\n",
      "      Transaction_Amount  ... Payment_Method\n",
      "0                1292.76  ...              1\n",
      "1                1554.58  ...              2\n",
      "2                  100.1  ...              3\n",
      "3                 1490.5  ...              2\n",
      "4                2372.04  ...              2\n",
      "...                  ...  ...            ...\n",
      "39578            3112.51  ...              1\n",
      "39579            2897.15  ...              4\n",
      "39580            2204.43  ...              2\n",
      "39581            4787.17  ...              4\n",
      "39582             814.72  ...              5\n",
      "\n",
      "[39583 rows x 9 columns]\n",
      "Best Parameters: {'max_depth': 4, 'min_samples_leaf': 1, 'min_samples_split': 2, 'n_estimators': 50}\n",
      "Accuracy: 0.9521283314386763\n",
      "\n",
      "Classification Report:\n",
      "              precision    recall  f1-score   support\n",
      "\n",
      "          일반       0.95      1.00      0.98      7538\n",
      "          사기       0.00      0.00      0.00       379\n",
      "\n",
      "    accuracy                           0.95      7917\n",
      "   macro avg       0.48      0.50      0.49      7917\n",
      "weighted avg       0.91      0.95      0.93      7917\n",
      "\n"
     ]
    },
    {
     "name": "stderr",
     "output_type": "stream",
     "text": [
      "c:\\NEWTEST\\.venv\\lib\\site-packages\\sklearn\\metrics\\_classification.py:1565: UndefinedMetricWarning: Precision is ill-defined and being set to 0.0 in labels with no predicted samples. Use `zero_division` parameter to control this behavior.\n",
      "  _warn_prf(average, modifier, f\"{metric.capitalize()} is\", len(result))\n",
      "c:\\NEWTEST\\.venv\\lib\\site-packages\\sklearn\\metrics\\_classification.py:1565: UndefinedMetricWarning: Precision is ill-defined and being set to 0.0 in labels with no predicted samples. Use `zero_division` parameter to control this behavior.\n",
      "  _warn_prf(average, modifier, f\"{metric.capitalize()} is\", len(result))\n",
      "c:\\NEWTEST\\.venv\\lib\\site-packages\\sklearn\\metrics\\_classification.py:1565: UndefinedMetricWarning: Precision is ill-defined and being set to 0.0 in labels with no predicted samples. Use `zero_division` parameter to control this behavior.\n",
      "  _warn_prf(average, modifier, f\"{metric.capitalize()} is\", len(result))\n"
     ]
    }
   ],
   "source": [
    "\n",
    "\n",
    "import pandas as pd\n",
    "import numpy as np\n",
    "from sklearn.preprocessing import StandardScaler\n",
    "from sklearn.ensemble import RandomForestClassifier\n",
    "from sklearn.model_selection import train_test_split, cross_val_score, GridSearchCV\n",
    "from sklearn.metrics import accuracy_score, classification_report, confusion_matrix\n",
    "import matplotlib.pyplot as plt\n",
    "import seaborn as sns\n",
    "\n",
    "fdDataset = pd.read_csv('./dataset/FraudDetectionDataset.csv')\n",
    "#print(fdDataset.head())\n",
    "print(fdDataset.isnull().sum()) # 결측치 확인\n",
    "#print(fdDataset.loc['Transaction_Type'].values)\n",
    "#fdDataset['Transaction_Type'] = fdDataset['Transaction_Type'].map({'ham': 0, 'spam': 1})  # 레이블을 숫자로 변환\n",
    "fdDataset.dropna(inplace=True)  # 결측치 제거\n",
    "\n",
    "print(fdDataset.isnull().sum())\n",
    "transaction_Type_List = list(fdDataset['Transaction_Type'].unique())\n",
    "print(transaction_Type_List)\n",
    "device_Used_List = list(fdDataset['Device_Used'].unique())\n",
    "print(device_Used_List)\n",
    "location_List = list(fdDataset['Location'].unique())\n",
    "print(location_List)\n",
    "payment_Method_List = list(fdDataset['Payment_Method'].unique())\n",
    "print(payment_Method_List)\n",
    "\n",
    "# 특성(X)과 타겟(y) 분리\n",
    "X = fdDataset.iloc[:,2:-1].values  # 첫 두 열(거래 ID, 유저 ID) 과 마지막 열(사기거래 여부) 제외\n",
    "y = fdDataset.iloc[:,-1].values  # 마지막 열\n",
    "\n",
    "# 문자열을 숫자로 변환\n",
    "for x in X:\n",
    "    for idx, tt in enumerate(transaction_Type_List):\n",
    "        if x[1] == tt:\n",
    "            x[1] = 1+idx\n",
    "            \n",
    "    for idx, du in enumerate(device_Used_List):\n",
    "        if x[3] == du:\n",
    "            x[3] = 1+idx\n",
    "    \n",
    "    for idx, l in enumerate(location_List):\n",
    "        if x[4] == l:\n",
    "            x[4] = 1+idx\n",
    "    \n",
    "    for idx, pm in enumerate(payment_Method_List):\n",
    "        if x[-1] == pm:\n",
    "            x[-1] = 1+idx\n",
    "\n",
    "\n",
    "# 데이터 프레임으로 변환\n",
    "Xdf = pd.DataFrame(X, columns=fdDataset.columns[2:-1])     \n",
    "print(Xdf)\n",
    "\n",
    "# 데이터 전처리: 특성 스케일링\n",
    "scaler = StandardScaler()\n",
    "X_scaled = scaler.fit_transform(Xdf)\n",
    "X_scaled = pd.DataFrame(X_scaled, columns=Xdf.columns)\n",
    "\n",
    "# 데이터 분할\n",
    "X_train, X_test, y_train, y_test = train_test_split(X_scaled, y, test_size=0.2, random_state=42)\n",
    "\n",
    "# Random Forest 모델 생성\n",
    "# 하이퍼파라미터 튜닝을 위해 GridSearchCV 사용\n",
    "param_grid = {\n",
    "    'n_estimators': [50, 100, 200],  # 트리의 개수\n",
    "    'max_depth': [4, 6, 8],       # 트리의 최대 깊이\n",
    "    'min_samples_split': [2, 4],  # 노드를 분할하기 위한 최소 샘플 수\n",
    "    'min_samples_leaf': [1, 2]    # 리프 노드에 있어야 하는 최소 샘플 수\n",
    "}\n",
    "\n",
    "# 랜덤 포레스트 모델 생성 및 학습\n",
    "rf_model = RandomForestClassifier(n_estimators=100, random_state=42)\n",
    "\n",
    "# 교차 검증 cv =3 : 훈련 데이터를 3개의 FOLD(묶음)으로 나누어서 두개를 훈련, 나머지는 검증 용도로 활용\n",
    "# 교차 검증은 최적의 하이퍼 파라미터 값을 찾기 위해서 사용됨\n",
    "grid_search = GridSearchCV(estimator=rf_model, param_grid=param_grid, cv=3, scoring='accuracy')\n",
    "\n",
    "# 모델 학습 (GridSearchCV를 통한 최적의 파라미터를 반영한 학습)\n",
    "grid_search.fit(X_train, y_train)\n",
    "\n",
    "# 최적의 파라미터 출력\n",
    "print(\"Best Parameters:\", grid_search.best_params_)\n",
    "\n",
    "# 최적의 모델 저장\n",
    "best_rf_model = grid_search.best_estimator_\n",
    "\n",
    "# 테스트 데이터로 예측 (하이퍼 파라미터 튜닝을 통해 최적회된 상태로 예측이 이루어짐)\n",
    "y_pred = best_rf_model.predict(X_test)\n",
    "\n",
    "# 정확도 평가\n",
    "accuracy = accuracy_score(y_test, y_pred)\n",
    "print(\"Accuracy:\", accuracy)\n",
    "\n",
    "# 분류 보고서\n",
    "print(\"\\nClassification Report:\")\n",
    "print(classification_report(y_test, y_pred, target_names=['일반', '사기']))\n"
   ]
  },
  {
   "cell_type": "code",
   "execution_count": 52,
   "metadata": {},
   "outputs": [
    {
     "name": "stderr",
     "output_type": "stream",
     "text": [
      "c:\\NEWTEST\\.venv\\lib\\site-packages\\seaborn\\utils.py:61: UserWarning: Glyph 51068 (\\N{HANGUL SYLLABLE IL}) missing from font(s) DejaVu Sans.\n",
      "  fig.canvas.draw()\n",
      "c:\\NEWTEST\\.venv\\lib\\site-packages\\seaborn\\utils.py:61: UserWarning: Glyph 48152 (\\N{HANGUL SYLLABLE BAN}) missing from font(s) DejaVu Sans.\n",
      "  fig.canvas.draw()\n",
      "c:\\NEWTEST\\.venv\\lib\\site-packages\\seaborn\\utils.py:61: UserWarning: Glyph 49324 (\\N{HANGUL SYLLABLE SA}) missing from font(s) DejaVu Sans.\n",
      "  fig.canvas.draw()\n",
      "c:\\NEWTEST\\.venv\\lib\\site-packages\\seaborn\\utils.py:61: UserWarning: Glyph 44592 (\\N{HANGUL SYLLABLE GI}) missing from font(s) DejaVu Sans.\n",
      "  fig.canvas.draw()\n",
      "c:\\NEWTEST\\.venv\\lib\\site-packages\\IPython\\core\\pylabtools.py:170: UserWarning: Glyph 51068 (\\N{HANGUL SYLLABLE IL}) missing from font(s) DejaVu Sans.\n",
      "  fig.canvas.print_figure(bytes_io, **kw)\n",
      "c:\\NEWTEST\\.venv\\lib\\site-packages\\IPython\\core\\pylabtools.py:170: UserWarning: Glyph 48152 (\\N{HANGUL SYLLABLE BAN}) missing from font(s) DejaVu Sans.\n",
      "  fig.canvas.print_figure(bytes_io, **kw)\n",
      "c:\\NEWTEST\\.venv\\lib\\site-packages\\IPython\\core\\pylabtools.py:170: UserWarning: Glyph 49324 (\\N{HANGUL SYLLABLE SA}) missing from font(s) DejaVu Sans.\n",
      "  fig.canvas.print_figure(bytes_io, **kw)\n",
      "c:\\NEWTEST\\.venv\\lib\\site-packages\\IPython\\core\\pylabtools.py:170: UserWarning: Glyph 44592 (\\N{HANGUL SYLLABLE GI}) missing from font(s) DejaVu Sans.\n",
      "  fig.canvas.print_figure(bytes_io, **kw)\n"
     ]
    },
    {
     "data": {
      "image/png": "[encoded data removed]",
      "text/plain": [
       "<Figure size 800x600 with 2 Axes>"
      ]
     },
     "metadata": {},
     "output_type": "display_data"
    }
   ],
   "source": [
    "# 혼동 행렬 (Confusion Matrix) 시각화\n",
    "cm = confusion_matrix(y_test, y_pred)\n",
    "plt.figure(figsize=(8, 6))\n",
    "# annot=True : 각 셀안의 숫자값을 표시, fmt=\"d\" : 숫자값을 정수형태로 표시, cmap=\"Blues\" : 색상값은 블루\n",
    "sns.heatmap(cm, annot=True, fmt=\"d\", cmap=\"Blues\", xticklabels=['일반', '사기'], yticklabels=['일반', '사기'])\n",
    "plt.title(\"Confusion Matrix\")\n",
    "plt.xlabel(\"Predicted Label\")\n",
    "plt.ylabel(\"True Label\")\n",
    "plt.show()"
   ]
  },
  {
   "cell_type": "code",
   "execution_count": null,
   "metadata": {},
   "outputs": [],
   "source": [
    "\n",
    "rf_model.fit(X_train, y_train)\n",
    "\n",
    "# 예측\n",
    "y_pred = rf_model.predict(X_test)\n",
    "\n",
    "# 교차 검증 수행\n",
    "cv_scores = cross_val_score(rf_model, X_scaled, y, cv=5)\n",
    "\n",
    "# 특성 중요도 계산\n",
    "feature_importance = pd.DataFrame({\n",
    "    '특성': X.columns,\n",
    "    '중요도': rf_model.feature_importances_\n",
    "}).sort_values('중요도', ascending=False)\n",
    "\n",
    "# 결과 출력\n",
    "print(\"모델 성능 평가:\")\n",
    "print(\"\\n교차 검증 점수:\")\n",
    "print(f\"평균 정확도: {cv_scores.mean():.4f} (+/- {cv_scores.std() * 2:.4f})\")\n",
    "print(\"\\n분류 리포트:\")\n",
    "print(classification_report(y_test, y_pred))"
   ]
  },
  {
   "cell_type": "markdown",
   "metadata": {},
   "source": [
    "#### 나이 데이터와 지불방식 데이터를 제외하고 학습"
   ]
  },
  {
   "cell_type": "code",
   "execution_count": null,
   "metadata": {},
   "outputs": [],
   "source": []
  }
 ],
 "metadata": {
  "kernelspec": {
   "display_name": ".venv",
   "language": "python",
   "name": "python3"
  },
  "language_info": {
   "codemirror_mode": {
    "name": "ipython",
    "version": 3
   },
   "file_extension": ".py",
   "mimetype": "text/x-python",
   "name": "python",
   "nbconvert_exporter": "python",
   "pygments_lexer": "ipython3",
   "version": "3.10.6"
  }
 },
 "nbformat": 4,
 "nbformat_minor": 2
}
