{
 "cells": [
  {
   "cell_type": "markdown",
   "metadata": {},
   "source": [
    "# 라이브러리 설치"
   ]
  },
  {
   "cell_type": "code",
   "execution_count": 1,
   "metadata": {},
   "outputs": [
    {
     "name": "stdout",
     "output_type": "stream",
     "text": [
      "Note: you may need to restart the kernel to use updated packages.\n"
     ]
    },
    {
     "name": "stderr",
     "output_type": "stream",
     "text": [
      "WARNING: Ignoring invalid distribution -atplotlib (c:\\newtest\\.venv\\lib\\site-packages)\n"
     ]
    },
    {
     "name": "stdout",
     "output_type": "stream",
     "text": [
      "Requirement already satisfied: annotated-types==0.7.0 in c:\\newtest\\.venv\\lib\\site-packages (from -r requirements.txt (line 1)) (0.7.0)\n",
      "Requirement already satisfied: asttokens==3.0.0 in c:\\newtest\\.venv\\lib\\site-packages (from -r requirements.txt (line 2)) (3.0.0)\n",
      "Requirement already satisfied: attrs==25.2.0 in c:\\newtest\\.venv\\lib\\site-packages (from -r requirements.txt (line 3)) (25.2.0)\n",
      "Requirement already satisfied: certifi==2025.1.31 in c:\\newtest\\.venv\\lib\\site-packages (from -r requirements.txt (line 4)) (2025.1.31)\n",
      "Requirement already satisfied: charset-normalizer==3.4.1 in c:\\newtest\\.venv\\lib\\site-packages (from -r requirements.txt (line 5)) (3.4.1)\n",
      "Requirement already satisfied: colorama==0.4.6 in c:\\newtest\\.venv\\lib\\site-packages (from -r requirements.txt (line 6)) (0.4.6)\n",
      "Requirement already satisfied: comm==0.2.2 in c:\\newtest\\.venv\\lib\\site-packages (from -r requirements.txt (line 7)) (0.2.2)\n",
      "Requirement already satisfied: contourpy==1.3.1 in c:\\newtest\\.venv\\lib\\site-packages (from -r requirements.txt (line 8)) (1.3.1)\n",
      "Requirement already satisfied: cycler==0.12.1 in c:\\newtest\\.venv\\lib\\site-packages (from -r requirements.txt (line 9)) (0.12.1)\n",
      "Requirement already satisfied: dacite==1.9.2 in c:\\newtest\\.venv\\lib\\site-packages (from -r requirements.txt (line 10)) (1.9.2)\n",
      "Requirement already satisfied: debugpy==1.8.13 in c:\\newtest\\.venv\\lib\\site-packages (from -r requirements.txt (line 11)) (1.8.13)\n",
      "Requirement already satisfied: decorator==5.2.1 in c:\\newtest\\.venv\\lib\\site-packages (from -r requirements.txt (line 12)) (5.2.1)\n",
      "Requirement already satisfied: exceptiongroup==1.2.2 in c:\\newtest\\.venv\\lib\\site-packages (from -r requirements.txt (line 13)) (1.2.2)\n",
      "Requirement already satisfied: executing==2.2.0 in c:\\newtest\\.venv\\lib\\site-packages (from -r requirements.txt (line 14)) (2.2.0)\n",
      "Requirement already satisfied: fonttools==4.56.0 in c:\\newtest\\.venv\\lib\\site-packages (from -r requirements.txt (line 15)) (4.56.0)\n",
      "Requirement already satisfied: htmlmin==0.1.12 in c:\\newtest\\.venv\\lib\\site-packages (from -r requirements.txt (line 16)) (0.1.12)\n",
      "Requirement already satisfied: idna==3.10 in c:\\newtest\\.venv\\lib\\site-packages (from -r requirements.txt (line 17)) (3.10)\n",
      "Requirement already satisfied: ImageHash==4.3.1 in c:\\newtest\\.venv\\lib\\site-packages (from -r requirements.txt (line 18)) (4.3.1)\n",
      "Requirement already satisfied: ipykernel==6.29.5 in c:\\newtest\\.venv\\lib\\site-packages (from -r requirements.txt (line 19)) (6.29.5)\n",
      "Requirement already satisfied: ipython==8.33.0 in c:\\newtest\\.venv\\lib\\site-packages (from -r requirements.txt (line 20)) (8.33.0)\n",
      "Requirement already satisfied: jedi==0.19.2 in c:\\newtest\\.venv\\lib\\site-packages (from -r requirements.txt (line 21)) (0.19.2)\n",
      "Requirement already satisfied: Jinja2==3.1.6 in c:\\newtest\\.venv\\lib\\site-packages (from -r requirements.txt (line 22)) (3.1.6)\n",
      "Requirement already satisfied: joblib==1.4.2 in c:\\newtest\\.venv\\lib\\site-packages (from -r requirements.txt (line 23)) (1.4.2)\n",
      "Requirement already satisfied: jupyter_client==8.6.3 in c:\\newtest\\.venv\\lib\\site-packages (from -r requirements.txt (line 24)) (8.6.3)\n",
      "Requirement already satisfied: jupyter_core==5.7.2 in c:\\newtest\\.venv\\lib\\site-packages (from -r requirements.txt (line 25)) (5.7.2)\n",
      "Requirement already satisfied: kiwisolver==1.4.8 in c:\\newtest\\.venv\\lib\\site-packages (from -r requirements.txt (line 26)) (1.4.8)\n",
      "Requirement already satisfied: llvmlite==0.44.0 in c:\\newtest\\.venv\\lib\\site-packages (from -r requirements.txt (line 27)) (0.44.0)\n",
      "Requirement already satisfied: MarkupSafe==3.0.2 in c:\\newtest\\.venv\\lib\\site-packages (from -r requirements.txt (line 28)) (3.0.2)\n",
      "Requirement already satisfied: matplotlib==3.10.0 in c:\\newtest\\.venv\\lib\\site-packages (from -r requirements.txt (line 29)) (3.10.0)\n",
      "Requirement already satisfied: matplotlib-inline==0.1.7 in c:\\newtest\\.venv\\lib\\site-packages (from -r requirements.txt (line 30)) (0.1.7)\n",
      "Requirement already satisfied: multimethod==1.12 in c:\\newtest\\.venv\\lib\\site-packages (from -r requirements.txt (line 31)) (1.12)\n",
      "Requirement already satisfied: nest-asyncio==1.6.0 in c:\\newtest\\.venv\\lib\\site-packages (from -r requirements.txt (line 32)) (1.6.0)\n",
      "Requirement already satisfied: networkx==3.4.2 in c:\\newtest\\.venv\\lib\\site-packages (from -r requirements.txt (line 33)) (3.4.2)\n",
      "Requirement already satisfied: numba==0.61.0 in c:\\newtest\\.venv\\lib\\site-packages (from -r requirements.txt (line 34)) (0.61.0)\n",
      "Requirement already satisfied: numpy==2.1.3 in c:\\newtest\\.venv\\lib\\site-packages (from -r requirements.txt (line 35)) (2.1.3)\n",
      "Requirement already satisfied: packaging==24.2 in c:\\newtest\\.venv\\lib\\site-packages (from -r requirements.txt (line 36)) (24.2)\n",
      "Requirement already satisfied: pandas==2.2.3 in c:\\newtest\\.venv\\lib\\site-packages (from -r requirements.txt (line 37)) (2.2.3)\n",
      "Requirement already satisfied: parso==0.8.4 in c:\\newtest\\.venv\\lib\\site-packages (from -r requirements.txt (line 38)) (0.8.4)\n",
      "Requirement already satisfied: patsy==1.0.1 in c:\\newtest\\.venv\\lib\\site-packages (from -r requirements.txt (line 39)) (1.0.1)\n",
      "Requirement already satisfied: phik==0.12.4 in c:\\newtest\\.venv\\lib\\site-packages (from -r requirements.txt (line 40)) (0.12.4)\n",
      "Requirement already satisfied: pillow==11.1.0 in c:\\newtest\\.venv\\lib\\site-packages (from -r requirements.txt (line 41)) (11.1.0)\n",
      "Requirement already satisfied: platformdirs==4.3.6 in c:\\newtest\\.venv\\lib\\site-packages (from -r requirements.txt (line 42)) (4.3.6)\n",
      "Requirement already satisfied: prompt_toolkit==3.0.50 in c:\\newtest\\.venv\\lib\\site-packages (from -r requirements.txt (line 43)) (3.0.50)\n",
      "Requirement already satisfied: psutil==7.0.0 in c:\\newtest\\.venv\\lib\\site-packages (from -r requirements.txt (line 44)) (7.0.0)\n",
      "Requirement already satisfied: pure_eval==0.2.3 in c:\\newtest\\.venv\\lib\\site-packages (from -r requirements.txt (line 45)) (0.2.3)\n",
      "Requirement already satisfied: puremagic==1.28 in c:\\newtest\\.venv\\lib\\site-packages (from -r requirements.txt (line 46)) (1.28)\n",
      "Requirement already satisfied: pydantic==2.10.6 in c:\\newtest\\.venv\\lib\\site-packages (from -r requirements.txt (line 47)) (2.10.6)\n",
      "Requirement already satisfied: pydantic_core==2.27.2 in c:\\newtest\\.venv\\lib\\site-packages (from -r requirements.txt (line 48)) (2.27.2)\n",
      "Requirement already satisfied: Pygments==2.19.1 in c:\\newtest\\.venv\\lib\\site-packages (from -r requirements.txt (line 49)) (2.19.1)\n",
      "Requirement already satisfied: pyparsing==3.2.1 in c:\\newtest\\.venv\\lib\\site-packages (from -r requirements.txt (line 50)) (3.2.1)\n",
      "Requirement already satisfied: python-dateutil==2.9.0.post0 in c:\\newtest\\.venv\\lib\\site-packages (from -r requirements.txt (line 51)) (2.9.0.post0)\n",
      "Requirement already satisfied: pytz==2025.1 in c:\\newtest\\.venv\\lib\\site-packages (from -r requirements.txt (line 52)) (2025.1)\n",
      "Requirement already satisfied: PyWavelets==1.8.0 in c:\\newtest\\.venv\\lib\\site-packages (from -r requirements.txt (line 53)) (1.8.0)\n",
      "Requirement already satisfied: pywin32==308 in c:\\newtest\\.venv\\lib\\site-packages (from -r requirements.txt (line 54)) (308)\n",
      "Requirement already satisfied: PyYAML==6.0.2 in c:\\newtest\\.venv\\lib\\site-packages (from -r requirements.txt (line 55)) (6.0.2)\n",
      "Requirement already satisfied: pyzmq==26.2.1 in c:\\newtest\\.venv\\lib\\site-packages (from -r requirements.txt (line 56)) (26.2.1)\n",
      "Requirement already satisfied: requests==2.32.3 in c:\\newtest\\.venv\\lib\\site-packages (from -r requirements.txt (line 57)) (2.32.3)\n",
      "Requirement already satisfied: scikit-learn==1.6.1 in c:\\newtest\\.venv\\lib\\site-packages (from -r requirements.txt (line 58)) (1.6.1)\n",
      "Requirement already satisfied: scipy==1.15.2 in c:\\newtest\\.venv\\lib\\site-packages (from -r requirements.txt (line 59)) (1.15.2)\n",
      "Requirement already satisfied: seaborn==0.13.2 in c:\\newtest\\.venv\\lib\\site-packages (from -r requirements.txt (line 60)) (0.13.2)\n",
      "Requirement already satisfied: six==1.17.0 in c:\\newtest\\.venv\\lib\\site-packages (from -r requirements.txt (line 61)) (1.17.0)\n",
      "Requirement already satisfied: stack-data==0.6.3 in c:\\newtest\\.venv\\lib\\site-packages (from -r requirements.txt (line 62)) (0.6.3)\n",
      "Requirement already satisfied: statsmodels==0.14.4 in c:\\newtest\\.venv\\lib\\site-packages (from -r requirements.txt (line 63)) (0.14.4)\n",
      "Requirement already satisfied: threadpoolctl==3.5.0 in c:\\newtest\\.venv\\lib\\site-packages (from -r requirements.txt (line 64)) (3.5.0)\n",
      "Requirement already satisfied: tornado==6.4.2 in c:\\newtest\\.venv\\lib\\site-packages (from -r requirements.txt (line 65)) (6.4.2)\n",
      "Requirement already satisfied: tqdm==4.67.1 in c:\\newtest\\.venv\\lib\\site-packages (from -r requirements.txt (line 66)) (4.67.1)\n",
      "Requirement already satisfied: traitlets==5.14.3 in c:\\newtest\\.venv\\lib\\site-packages (from -r requirements.txt (line 67)) (5.14.3)\n",
      "Requirement already satisfied: typeguard==4.4.2 in c:\\newtest\\.venv\\lib\\site-packages (from -r requirements.txt (line 68)) (4.4.2)\n",
      "Requirement already satisfied: typing_extensions==4.12.2 in c:\\newtest\\.venv\\lib\\site-packages (from -r requirements.txt (line 69)) (4.12.2)\n",
      "Requirement already satisfied: tzdata==2025.1 in c:\\newtest\\.venv\\lib\\site-packages (from -r requirements.txt (line 70)) (2025.1)\n",
      "Requirement already satisfied: urllib3==2.3.0 in c:\\newtest\\.venv\\lib\\site-packages (from -r requirements.txt (line 71)) (2.3.0)\n",
      "Requirement already satisfied: visions==0.8.1 in c:\\newtest\\.venv\\lib\\site-packages (from -r requirements.txt (line 72)) (0.8.1)\n",
      "Requirement already satisfied: wcwidth==0.2.13 in c:\\newtest\\.venv\\lib\\site-packages (from -r requirements.txt (line 73)) (0.2.13)\n",
      "Requirement already satisfied: wordcloud==1.9.4 in c:\\newtest\\.venv\\lib\\site-packages (from -r requirements.txt (line 74)) (1.9.4)\n",
      "Requirement already satisfied: ydata-profiling==4.14.0 in c:\\newtest\\.venv\\lib\\site-packages (from -r requirements.txt (line 75)) (4.14.0)\n",
      "Note: you may need to restart the kernel to use updated packages.\n"
     ]
    },
    {
     "name": "stderr",
     "output_type": "stream",
     "text": [
      "WARNING: Ignoring invalid distribution -atplotlib (c:\\newtest\\.venv\\lib\\site-packages)\n",
      "WARNING: Ignoring invalid distribution -atplotlib (c:\\newtest\\.venv\\lib\\site-packages)\n",
      "WARNING: Ignoring invalid distribution -atplotlib (c:\\newtest\\.venv\\lib\\site-packages)\n"
     ]
    }
   ],
   "source": [
    "%pip freeze > requirements.txt\n",
    "%pip install -r requirements.txt"
   ]
  },
  {
   "cell_type": "code",
   "execution_count": 9,
   "metadata": {},
   "outputs": [
    {
     "name": "stdout",
     "output_type": "stream",
     "text": [
      "Found existing installation: matplotlib 3.10.0\n",
      "Note: you may need to restart the kernel to use updated packages.\n"
     ]
    },
    {
     "name": "stderr",
     "output_type": "stream",
     "text": [
      "error: uninstall-no-record-file\n",
      "\n",
      "× Cannot uninstall matplotlib 3.10.0\n",
      "╰─> The package's contents are unknown: no RECORD file was found for matplotlib.\n",
      "\n",
      "hint: You might be able to recover from this via: pip install --force-reinstall --no-deps matplotlib==3.10.0\n"
     ]
    }
   ],
   "source": [
    "%pip uninstall matplotlib"
   ]
  },
  {
   "cell_type": "code",
   "execution_count": 2,
   "metadata": {},
   "outputs": [
    {
     "name": "stdout",
     "output_type": "stream",
     "text": [
      "Collecting matplotlib\n",
      "  Using cached matplotlib-3.10.1-cp310-cp310-win_amd64.whl.metadata (11 kB)\n",
      "Requirement already satisfied: contourpy>=1.0.1 in c:\\newtest\\.venv\\lib\\site-packages (from matplotlib) (1.3.1)\n",
      "Requirement already satisfied: cycler>=0.10 in c:\\newtest\\.venv\\lib\\site-packages (from matplotlib) (0.12.1)\n",
      "Requirement already satisfied: fonttools>=4.22.0 in c:\\newtest\\.venv\\lib\\site-packages (from matplotlib) (4.56.0)\n",
      "Requirement already satisfied: kiwisolver>=1.3.1 in c:\\newtest\\.venv\\lib\\site-packages (from matplotlib) (1.4.8)\n",
      "Requirement already satisfied: numpy>=1.23 in c:\\newtest\\.venv\\lib\\site-packages (from matplotlib) (2.2.3)\n",
      "Requirement already satisfied: packaging>=20.0 in c:\\newtest\\.venv\\lib\\site-packages (from matplotlib) (24.2)\n",
      "Requirement already satisfied: pillow>=8 in c:\\newtest\\.venv\\lib\\site-packages (from matplotlib) (11.1.0)\n",
      "Requirement already satisfied: pyparsing>=2.3.1 in c:\\newtest\\.venv\\lib\\site-packages (from matplotlib) (3.2.1)\n",
      "Requirement already satisfied: python-dateutil>=2.7 in c:\\newtest\\.venv\\lib\\site-packages (from matplotlib) (2.9.0.post0)\n",
      "Requirement already satisfied: six>=1.5 in c:\\newtest\\.venv\\lib\\site-packages (from python-dateutil>=2.7->matplotlib) (1.17.0)\n",
      "Using cached matplotlib-3.10.1-cp310-cp310-win_amd64.whl (8.1 MB)\n",
      "Installing collected packages: matplotlib\n",
      "Successfully installed matplotlib-3.10.1\n",
      "Note: you may need to restart the kernel to use updated packages.\n"
     ]
    },
    {
     "name": "stderr",
     "output_type": "stream",
     "text": [
      "WARNING: Ignoring invalid distribution -atplotlib (c:\\newtest\\.venv\\lib\\site-packages)\n",
      "WARNING: Ignoring invalid distribution -atplotlib (c:\\newtest\\.venv\\lib\\site-packages)\n",
      "WARNING: Ignoring invalid distribution -atplotlib (c:\\newtest\\.venv\\lib\\site-packages)\n",
      "ERROR: pip's dependency resolver does not currently take into account all the packages that are installed. This behaviour is the source of the following dependency conflicts.\n",
      "ydata-profiling 4.14.0 requires matplotlib<=3.10,>=3.5, but you have matplotlib 3.10.1 which is incompatible.\n",
      "ydata-profiling 4.14.0 requires numpy<2.2,>=1.16.0, but you have numpy 2.2.3 which is incompatible.\n"
     ]
    }
   ],
   "source": [
    "%pip install matplotlib"
   ]
  },
  {
   "cell_type": "code",
   "execution_count": 1,
   "metadata": {},
   "outputs": [
    {
     "name": "stdout",
     "output_type": "stream",
     "text": [
      "Package            Version\n",
      "------------------ -----------\n",
      "annotated-types    0.7.0\n",
      "asttokens          3.0.0\n",
      "attrs              25.2.0\n",
      "certifi            2025.1.31\n",
      "charset-normalizer 3.4.1\n",
      "colorama           0.4.6\n",
      "comm               0.2.2\n",
      "contourpy          1.3.1\n",
      "cycler             0.12.1\n",
      "dacite             1.9.2\n",
      "debugpy            1.8.13\n",
      "decorator          5.2.1\n",
      "exceptiongroup     1.2.2\n",
      "executing          2.2.0\n",
      "fonttools          4.56.0\n",
      "htmlmin            0.1.12\n",
      "idna               3.10\n",
      "ImageHash          4.3.1\n",
      "ipykernel          6.29.5\n",
      "ipython            8.33.0\n",
      "jedi               0.19.2\n",
      "Jinja2             3.1.6\n",
      "joblib             1.4.2\n",
      "jupyter_client     8.6.3\n",
      "jupyter_core       5.7.2\n",
      "kiwisolver         1.4.8\n",
      "llvmlite           0.44.0\n",
      "MarkupSafe         3.0.2\n",
      "matplotlib-inline  0.1.7\n",
      "multimethod        1.12\n",
      "nest-asyncio       1.6.0\n",
      "networkx           3.4.2\n",
      "numba              0.61.0\n",
      "numpy              2.2.3\n",
      "packaging          24.2\n",
      "pandas             2.2.3\n",
      "parso              0.8.4\n",
      "patsy              1.0.1\n",
      "phik               0.12.4\n",
      "pillow             11.1.0\n",
      "pip                25.0.1\n",
      "platformdirs       4.3.6\n",
      "prompt_toolkit     3.0.50\n",
      "psutil             7.0.0\n",
      "pure_eval          0.2.3\n",
      "puremagic          1.28\n",
      "pydantic           2.10.6\n",
      "pydantic_core      2.27.2\n",
      "Pygments           2.19.1\n",
      "pyparsing          3.2.1\n",
      "python-dateutil    2.9.0.post0\n",
      "pytz               2025.1\n",
      "PyWavelets         1.8.0\n",
      "pywin32            308\n",
      "PyYAML             6.0.2\n",
      "pyzmq              26.2.1\n",
      "requests           2.32.3\n",
      "scikit-learn       1.6.1\n",
      "scipy              1.15.2\n",
      "seaborn            0.13.2\n",
      "setuptools         63.2.0\n",
      "six                1.17.0\n",
      "stack-data         0.6.3\n",
      "statsmodels        0.14.4\n",
      "threadpoolctl      3.5.0\n",
      "tornado            6.4.2\n",
      "tqdm               4.67.1\n",
      "traitlets          5.14.3\n",
      "typeguard          4.4.2\n",
      "typing_extensions  4.12.2\n",
      "tzdata             2025.1\n",
      "urllib3            2.3.0\n",
      "visions            0.8.1\n",
      "wcwidth            0.2.13\n",
      "wordcloud          1.9.4\n",
      "ydata-profiling    4.14.0\n",
      "Note: you may need to restart the kernel to use updated packages.\n"
     ]
    },
    {
     "name": "stderr",
     "output_type": "stream",
     "text": [
      "WARNING: Ignoring invalid distribution -atplotlib (c:\\newtest\\.venv\\lib\\site-packages)\n"
     ]
    }
   ],
   "source": [
    "%pip list"
   ]
  },
  {
   "cell_type": "code",
   "execution_count": 12,
   "metadata": {},
   "outputs": [
    {
     "name": "stdout",
     "output_type": "stream",
     "text": [
      "c:\\NEWTEST\\.venv\\Scripts\\python.exe\n",
      "C:\\Python310\\python.exe\n",
      "C:\\Users\\humna-20\\AppData\\Local\\Microsoft\\WindowsApps\\python.exe\n"
     ]
    }
   ],
   "source": [
    "!where python"
   ]
  }
 ],
 "metadata": {
  "kernelspec": {
   "display_name": ".venv",
   "language": "python",
   "name": "python3"
  },
  "language_info": {
   "codemirror_mode": {
    "name": "ipython",
    "version": 3
   },
   "file_extension": ".py",
   "mimetype": "text/x-python",
   "name": "python",
   "nbconvert_exporter": "python",
   "pygments_lexer": "ipython3",
   "version": "3.10.6"
  }
 },
 "nbformat": 4,
 "nbformat_minor": 2
}
