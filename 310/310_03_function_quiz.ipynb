{
 "cells": [
  {
   "cell_type": "markdown",
   "metadata": {},
   "source": [
    "## 함수과제"
   ]
  },
  {
   "cell_type": "code",
   "execution_count": 2,
   "metadata": {},
   "outputs": [
    {
     "data": {
      "text/plain": [
       "{'the': 3,\n",
       " 'quick': 1,\n",
       " 'brown': 1,\n",
       " 'fox': 1,\n",
       " 'jumps': 1,\n",
       " 'over': 1,\n",
       " 'lazy': 1,\n",
       " 'dog': 1}"
      ]
     },
     "execution_count": 2,
     "metadata": {},
     "output_type": "execute_result"
    }
   ],
   "source": [
    "\"\"\"\n",
    "문자열 형태의 문장을 입력받아 각 단어의 빈도를 딕셔너리 형태로 반환하고,\n",
    "문장에 포함된 총 단어 수도 함께 출력하는 파이썬 함수 count_words를 작성하세요.\n",
    "\n",
    "조건:\n",
    "1. 함수는 문자열 형태의 문장을 입력받습니다.2. 문장을 단어 단위로 분리해야 합니다.\n",
    "    (구두점이나 특수문자는 제거하지 않아도 됩니다.)\n",
    "3.함수는 각 단어의 빈도를 딕셔너리 형태로 저장합니다. (예: {\"the\": 3, \"quick\": 1, \"brown\": 1})\n",
    "4.함수는 문장에 포함된 총 단어 수를 계산합니다.\n",
    "5.함수는 단어 빈도 딕셔너리와 총 단어 수를 모두 반환합니다.\n",
    "6.input() 함수를 사용하여 사용자로부터 문장을 입력받습니다.\n",
    "7.최종 결과는 문제에서 제시된 출력 예시와 동일해야 합니다.\n",
    "\n",
    "출력 예시(영문, 한글 문장 모두 가능):\n",
    "문장을 입력하세요: the quick brown fox jumps over the lazy dog the \n",
    "{'the': 3, 'quick': 1, 'brown': 1, 'fox': 1, 'jumps': 1, 'over': 1, 'lazy': 1, 'dog': 1} \n",
    "총 단어 수: 9\n",
    "\"\"\"\n",
    "\n",
    "def count_words(msg):\n",
    "    words = msg.split()\n",
    "    cnt_words = {}\n",
    "    for word in words:\n",
    "        word_cnt = words.count(word)\n",
    "        cnt_words[word]=word_cnt\n",
    "    return cnt_words\n",
    "\n",
    "count_words(input(\"문장을 입력하세요 : \"))\n",
    "    "
   ]
  },
  {
   "cell_type": "markdown",
   "metadata": {},
   "source": [
    "## 사칙연산 계산기"
   ]
  },
  {
   "cell_type": "code",
   "execution_count": null,
   "metadata": {},
   "outputs": [
    {
     "name": "stdout",
     "output_type": "stream",
     "text": [
      "Division by zero float division by zero\n"
     ]
    }
   ],
   "source": [
    "\"\"\"\n",
    "1. 주요 내용\n",
    "\n",
    "두 개의 숫자를 입력받고, 사칙 연산(덧셈, 뺄셈, 곱셈, 나눗셈) 중 하나를 선택하여\n",
    "결과를 반환하는 파이썬 함수 calculate(num1, num2, operator)를 작성하세요.\n",
    "\n",
    "num1: 첫 번째 숫자 (float)\n",
    "num2: 두 번째 숫자 (float)\n",
    "operator: 연산자 (+, -, *, /) (str)\n",
    "\n",
    "연산 결과 (float)\n",
    "유효하지 않은 연산자인 경우 \"Invalid operator\" 문자열 반환\n",
    "두 번째 숫자가 0이고 나눗셈을 시도하는 경우 \"Division by zero\" 문자열 반환\n",
    "\n",
    "2. 메시지 출력\n",
    "\n",
    "1번 문제에서 작성한 calculate 함수를 사용하여, 사용자로부터 두 개의 숫자와 연산자를 입력받고,\n",
    "calculate 함수를 호출하여 결과를 출력하는 프로그램을 작성하세요.\n",
    "\n",
    "\"첫 번째 숫자를 입력하세요: \" 메시지를 출력하고 사용자로부터 첫 번째 숫자를 입력받습니다.\n",
    "\"두 번째 숫자를 입력하세요: \" 메시지를 출력하고 사용자로부터 두 번째 숫자를 입력받습니다.\n",
    "\"연산자를 선택하세요 (+, -, *, /): \" 메시지를 출력하고 사용자로부터 연산자를 입력받습니다.\n",
    "calculate 함수의 반환 값을 \"결과: \" 메시지와 함께 출력합니다.\n",
    "\"\"\"\n",
    "\n",
    "def calculate(num1, num2, operator):\n",
    "    try:\n",
    "        if operator==\"+\":\n",
    "            return f\"결과: {float(num1)+float(num2)}\"\n",
    "        elif operator==\"-\":\n",
    "            return f\"결과: {float(num1)-float(num2)}\"\n",
    "        elif operator==\"*\":\n",
    "            return f\"결과: {float(num1)*float(num2)}\"\n",
    "        elif operator==\"/\":\n",
    "            return f\"결과: {float(num1)/float(num2)}\"\n",
    "        else:\n",
    "            return \"연산자가 올바르지 않습니다\"\n",
    "    except ValueError as e:\n",
    "        return f\"Invalid operator: {e}\"\n",
    "    except ZeroDivisionError as e:\n",
    "        return f\"Division by zero: {e}\"\n",
    "    else:\n",
    "        return \"예상치 못한 예외 발생\"\n",
    "\n",
    "number1 = input(\"첫번째 숫자를 입력하세요 : \")\n",
    "calcu = input(\"연산자를 입력하세요 : \")\n",
    "number2 = input(\"두번째 숫자를 입력하세요 : \")\n",
    "\n",
    "print(calculate(number1, number2, calcu))"
   ]
  }
 ],
 "metadata": {
  "kernelspec": {
   "display_name": ".venv",
   "language": "python",
   "name": "python3"
  },
  "language_info": {
   "codemirror_mode": {
    "name": "ipython",
    "version": 3
   },
   "file_extension": ".py",
   "mimetype": "text/x-python",
   "name": "python",
   "nbconvert_exporter": "python",
   "pygments_lexer": "ipython3",
   "version": "3.10.6"
  }
 },
 "nbformat": 4,
 "nbformat_minor": 2
}
