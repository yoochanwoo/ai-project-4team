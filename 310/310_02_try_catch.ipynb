{
 "cells": [
  {
   "cell_type": "markdown",
   "metadata": {},
   "source": [
    "## try문"
   ]
  },
  {
   "cell_type": "code",
   "execution_count": null,
   "metadata": {},
   "outputs": [
    {
     "name": "stdout",
     "output_type": "stream",
     "text": [
      "유효한 숫자를 입력해야 합니다.\n",
      "파일을 찾을 수 없습니다.\n",
      "파일을 닫았습니다.\n"
     ]
    }
   ],
   "source": [
    "\"\"\"\n",
    "try:\n",
    "# 예외가 발생할 가능성이 있는 코드\n",
    "except 예외 타입 as 변수:\n",
    "# 예외가 발생했을 때 실행할 코드\n",
    "else:\n",
    "# 예외가 발생하지 않았을 때 실행할 코드\n",
    "finally:\n",
    "# 예외 발생 여부와 상관없이 항상 실행할 코드\n",
    "\"\"\"\n",
    "\n",
    "try:\n",
    "    num = int(input(\"숫자를 입력하세요: \"))\n",
    "except ValueError:\n",
    "    print(\"유효한 숫자를 입력해야 합니다.\")\n",
    "else:\n",
    "    print(f\"정상적으로 입력되었습니다: {num}\")\n",
    "    \n",
    "try:\n",
    "    file = open(\"example.txt\", \"r\") # human.txt | example.txt\n",
    "    content = file.read()\n",
    "    print(content)\n",
    "except FileNotFoundError:\n",
    "    print(\"파일을 찾을 수 없습니다.\")\n",
    "finally:\n",
    "    file.close()\n",
    "    print(\"파일을 닫았습니다.\")\n",
    "\n",
    "try:\n",
    "    result = 10 / 0\n",
    "except ZeroDivisionError as e:\n",
    "    print(f\"예외 발생: {e}\") # 출력: 예외발생: division by zero"
   ]
  },
  {
   "cell_type": "markdown",
   "metadata": {},
   "source": [
    "## with문"
   ]
  },
  {
   "cell_type": "code",
   "execution_count": null,
   "metadata": {},
   "outputs": [
    {
     "name": "stdout",
     "output_type": "stream",
     "text": [
      "hello! example!\n",
      "hello human\n"
     ]
    }
   ],
   "source": [
    "# with문 예시\n",
    "with open('ai_project/dataset/example.txt', 'r') as file:\n",
    "    print(file.read())\n",
    "\n",
    "# try문 사용 시\n",
    "file = open(\"ai_project/dataset/human.txt\", \"r\")\n",
    "try:\n",
    "    print(file.read())\n",
    "finally:\n",
    "    file.close()\n",
    "\"\"\"\n",
    "파일 입출력 시, try구문보다 with 구문이 좋음\n",
    "- close() 호출이 필요없기 때문에\n",
    "- 예외가 발생해도, 리소스 정리(close(), release())가 보장되기 때문에\n",
    "- 코드가 더 깔끔하기 때문에\n",
    "\"\"\""
   ]
  }
 ],
 "metadata": {
  "kernelspec": {
   "display_name": ".venv",
   "language": "python",
   "name": "python3"
  },
  "language_info": {
   "codemirror_mode": {
    "name": "ipython",
    "version": 3
   },
   "file_extension": ".py",
   "mimetype": "text/x-python",
   "name": "python",
   "nbconvert_exporter": "python",
   "pygments_lexer": "ipython3",
   "version": "3.10.6"
  }
 },
 "nbformat": 4,
 "nbformat_minor": 2
}
