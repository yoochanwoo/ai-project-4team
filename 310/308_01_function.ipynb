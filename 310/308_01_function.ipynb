{
 "cells": [
  {
   "cell_type": "markdown",
   "metadata": {},
   "source": [
    "## 함수"
   ]
  },
  {
   "cell_type": "code",
   "execution_count": null,
   "metadata": {},
   "outputs": [
    {
     "name": "stdout",
     "output_type": "stream",
     "text": [
      "hello!\n",
      "11\n",
      "60\n",
      "양수입니다\n",
      "음수입니다\n",
      "0입니다\n",
      "로그인 성공\n",
      "로그인 실패\n",
      "로그인 실패\n",
      "8\n",
      "8\n",
      "1\n",
      "[2, 6, 8]\n",
      "1개월 차 : 500,000원 저축\n",
      "2개월 차 : 1,000,000원 저축\n",
      "3개월 차 : 1,500,000원 저축\n",
      "4개월 차 : 2,000,000원 저축\n",
      "5개월 차 : 2,500,000원 저축\n",
      "6개월 차 : 3,000,000원 저축\n",
      "7개월 차 : 3,500,000원 저축\n",
      "8개월 차 : 4,000,000원 저축\n",
      "9개월 차 : 4,500,000원 저축\n",
      "10개월 차 : 5,000,000원 저축\n",
      "11개월 차 : 5,500,000원 저축\n",
      "12개월 차 : 6,000,000원 저축\n",
      "13개월 차 : 6,500,000원 저축\n",
      "14개월 차 : 7,000,000원 저축\n",
      "15개월 차 : 7,500,000원 저축\n",
      "16개월 차 : 8,000,000원 저축\n",
      "17개월 차 : 8,500,000원 저축\n",
      "18개월 차 : 9,000,000원 저축\n",
      "19개월 차 : 9,500,000원 저축\n",
      "20개월 차 : 10,000,000원 저축\n",
      "20개월만에 목표금액 달성\n",
      "정답입니다! 1번 만에 맞추셨습니다\n"
     ]
    }
   ],
   "source": [
    "def greet():\n",
    "    print(\"hello!\")\n",
    "\n",
    "def add(a,b):\n",
    "    return a+b\n",
    "\n",
    "num1=8\n",
    "num2=3\n",
    "sumnum1 = add(num1,num2)\n",
    "\n",
    "greet()\n",
    "print(sumnum1)\n",
    "# 함수는 def로 선언 가능 (java에서 function과 비슷)\n",
    "# 매개변수(필드)는 괄호 안에 넣음 => 매개변수는 튜플로 작동됨\n",
    "\n",
    "def greet2(name=\"홍길동\"):\n",
    "    print(f\"안녕하세요 {name}님\")\n",
    "\n",
    "def multuple(*args):\n",
    "    result=1\n",
    "    for num in args:\n",
    "        result *=num\n",
    "    return result\n",
    "print(multuple(3,4,5))\n",
    "# args : 임의의 개수의 숫자를 받아들임\n",
    "#   - 매개변수의 수량을 제한하지 않는 것\n",
    "\n",
    "def ck_num(num):\n",
    "    if num>0:\n",
    "        return \"양수입니다\"\n",
    "    elif num<0:\n",
    "        return \"음수입니다\"\n",
    "    else:\n",
    "        return \"0입니다\"\n",
    "\n",
    "print(ck_num(15))\n",
    "print(ck_num(-5))\n",
    "print(ck_num(0))\n",
    "\n",
    "def login(id,pwd):\n",
    "    if id==\"himan\" and pwd==\"1234\":\n",
    "        return \"로그인 성공\"\n",
    "    else:\n",
    "        return \"로그인 실패\"\n",
    "\n",
    "#print(login(input(\"아이디를 입력하세요 : \"),input(\"비밀번호를 입력하세요 : \")))\n",
    "print(login(\"himan\",\"1234\"))\n",
    "print(login(\"himam\",\"1234\"))\n",
    "print(login(\"himan\",\"2234\"))\n",
    "\n",
    "def find_max(numbers):\n",
    "    max_num = numbers[0]\n",
    "    for num in numbers:\n",
    "        if num>max_num:\n",
    "            max_num=num\n",
    "    return max_num\n",
    "\n",
    "nums =[1,7,2,5,6,8,3]\n",
    "print(find_max(nums))\n",
    "print(max(nums)) # 기본적으로 있음\n",
    "print(min(nums)) # 기본적으로 있음\n",
    "\n",
    "def find_even_numbers(numbers):\n",
    "    even_numbers=[]\n",
    "    for num in numbers:\n",
    "        if num%2==0:\n",
    "            even_numbers.append(num)\n",
    "    return even_numbers\n",
    "\n",
    "print(find_even_numbers(nums))\n",
    "\n",
    "def save_monny_simulation(target_monny,save_monny):\n",
    "    total=0\n",
    "    months=0\n",
    "    while total<target_monny:\n",
    "        total+=save_monny\n",
    "        months+=1\n",
    "        print(f\"{months}개월 차 : {total:,}원 저축\")    # total:, : 1000단위로 콤마를 찍음\n",
    "    return f\"{months}개월만에 목표금액 달성\"\n",
    "\n",
    "print(save_monny_simulation(10000000,500000))\n",
    "\n",
    "def guess_num(answer):\n",
    "    count = 0\n",
    "    guess = None    # 아무 값도 할당하지 않은 상태 (null)\n",
    "    while guess!=answer:\n",
    "        guess=int(input(\"숫자를 맞춰보세요 : \"))\n",
    "        count+=1\n",
    "        if guess>answer:\n",
    "            print(\"더 큰 숫자입니다\")\n",
    "        elif guess<answer:\n",
    "            print(\"더 작은 숫자입니다\")\n",
    "    return f\"정답입니다! {count}번 만에 맞추셨습니다\"\n",
    "\n",
    "print(guess_num(83))\n",
    "\n",
    "\n",
    "\n",
    "def normalize_data(numbers):\n",
    "    \"\"\"\n",
    "    데이터를 0~1 사이의 값으로 정규화하는 함수 (%비율로 조정)\n",
    "    정규화 = (값 - 최소값) / (최대값 - 최소값)\n",
    "    매개변수:\n",
    "    numbers: 정규화할 숫자 리스트\n",
    "    반환값:\n",
    "    정규화된 데이터 리스트 (0~1 사이의 값)\n",
    "    \"\"\"\n",
    "    min_value = min(numbers) # 데이터의 최소값\n",
    "    max_value = max(numbers) # 데이터의 최대값\n",
    "    normalized = [] #정규화된 값을 저장할 리스트\n",
    "    for num in numbers:\n",
    "        # 정규화 공식 적용\n",
    "        norm_value = (num - min_value) / (max_value - min_value)\n",
    "        normalized.append(norm_value)\n",
    "    return normalized\n",
    "\n",
    "def split_data(data, train_ratio=0.8):\n",
    "    \"\"\"\n",
    "    ## 리스트를 일정비율(train_ratio)로 분할하는 함수\n",
    "    ## train_ratio가 0.8 이므로 8:2 로 나뉨\n",
    "    ## AI 학습에 사용됨\n",
    "    \n",
    "    데이터를 학습용(80%)과 테스트용(20%)으로 분리하는 함수\n",
    "    매개변수:\n",
    "    data: 분할할 데이터 리스트\n",
    "    train_ratio: 학습 데이터의 비율 (기본값 0.8 = 80%)\n",
    "    반환값:\n",
    "    train_data : 학습용 데이터\n",
    "    test_data: 테스트용 데이터\n",
    "    \"\"\"\n",
    "    # 학습 데이터 개수 계산\n",
    "    split_index = int(len(data) * train_ratio) # len함수 : 문자열, 리스트, 튜플 등 길이 측정\n",
    "    # split_index : 데이터의 80퍼센트 길이\n",
    "    # 데이터 분할\n",
    "    train_data = data[:split_index] # 처음부터 split_index까지\n",
    "    # train_data : 전체데이터에서 뒤 20% 를 자름\n",
    "    test_data = data[split_index:] # split_index부터 끝까지\n",
    "    # test_data : 전체데이터에서 뒤 20% 부분\n",
    "    return train_data, test_data\n",
    "# 데이터 분할 함수 사용 예시\n",
    "full_data = [1, 2, 3, 4, 5, 6, 7, 8, 9, 10]\n",
    "print(\"===== 데이터 분할 예제 =====\")\n",
    "print(\" 전체 데이터:\", full_data) # 콤마(,)로 결과로 나오는 리스트의 요소 값을 구분\n",
    "# 80:20으로 분할\n",
    "train, test = split_data(full_data)\n",
    "print(\"\\기본 비율(80%)로 분할:\")\n",
    "print(\"학습 데이터:\", train) # 학습 데이터 : [1, 2, 3, 4, 5, 6, 7, 8]\n",
    "print(\"테스트 데이터:\", test) # 테스트 데이터 : [9, 10]"
   ]
  },
  {
   "cell_type": "markdown",
   "metadata": {},
   "source": [
    "## 람다함수"
   ]
  },
  {
   "cell_type": "code",
   "execution_count": null,
   "metadata": {},
   "outputs": [
    {
     "name": "stdout",
     "output_type": "stream",
     "text": [
      "40\n",
      "40\n",
      "9\n",
      "27\n"
     ]
    }
   ],
   "source": [
    "# 한 줄로 작성되는 간단한 함수를 만들 때 주로 사용\n",
    "\n",
    "multi1 = lambda x,y:x*y\n",
    "\n",
    "def multi2(x,y):\n",
    "    return x*y\n",
    "\n",
    "print(multi1(5,8))\n",
    "print(multi2(5,8))\n",
    "# 단순계산 처리에 주로 사용\n",
    "\n",
    "square = lambda a:a**2\n",
    "cube = lambda a:a**3\n",
    "print(square(3))\n",
    "print(cube(3))\n",
    "\n",
    "ck_odd_even = lambda a: \"짝수\" if a%2==0 else \"홀수\" # 한 줄로 쓰는 조건문 \n",
    "# 람다함수는 다중열로 선언할 수 없다\n",
    "# 한 줄로만 선언 가능\n",
    "print (ck_odd_even(7))\n",
    "\n",
    "numbers = [5, 2, 9, 1]\n",
    "sorted_numbers = sorted(numbers, key=lambda x: x) #sorted 함수의 인자로 사용한 예\n",
    "# 람다 함수를 인자로 사용할 수도 있다\n",
    "\"\"\"\n",
    "sort(iterable, key=key, reverse=reverse)\n",
    "    데이터를 정렬하는 함수\n",
    "sorted(iterable, key=key, reverse=reverse)\n",
    "    데이터를 정렬하여 새로 만드는 함수\n",
    "    \n",
    "    iterable : 정렬 가능한 데이터가 들어감 (리스트, 튜플, 딕셔너리)\n",
    "    key : 정렬기준을 정하는 인자\n",
    "    reverse : default는 False. True가 되면 내림차순으로 정렬\n",
    "\"\"\"\n",
    "print(sorted_numbers) # 출력: [1, 2, 5, 9]\n"
   ]
  },
  {
   "cell_type": "markdown",
   "metadata": {},
   "source": [
    "## 내장함수"
   ]
  },
  {
   "cell_type": "markdown",
   "metadata": {},
   "source": [
    "### len함수"
   ]
  },
  {
   "cell_type": "code",
   "execution_count": null,
   "metadata": {},
   "outputs": [],
   "source": [
    "# 데이터 요소의 개수를 구하는 함수\n",
    "my_list = [1, 2, 3, 4, 5]\n",
    "list_length = len(my_list)\n",
    "print(f\"리스트의 길이는 {list_length}입니다.\")  # 5\n",
    "\n",
    "my_tuple = (10, 20, 30)\n",
    "tuple_length = len(my_tuple)\n",
    "print(f\"튜플의 길이는 {tuple_length}입니다.\")   # 3"
   ]
  },
  {
   "cell_type": "markdown",
   "metadata": {},
   "source": [
    "### filter함수"
   ]
  },
  {
   "cell_type": "code",
   "execution_count": 8,
   "metadata": {},
   "outputs": [
    {
     "name": "stdout",
     "output_type": "stream",
     "text": [
      "[2, 4, 6, 8, 10]\n",
      "['banana', 'cherry', 'elderberry']\n"
     ]
    }
   ],
   "source": [
    "# filter 함수 : 함수로 데이터를 필터링 하는 함수. 형식은 filter(함수, 시퀀스)\n",
    "# 매개변수로 들어가는 함수는 bool값을 리턴해야함\n",
    "numbers = [1, 2, 3, 4, 5, 6, 7, 8, 9, 10]\n",
    "\n",
    "def is_even(n):\n",
    "    return n % 2 == 0 # 짝수인지 확인하는 bool값을 출력하는 함수\n",
    "\n",
    "even_numbers = list(filter(is_even, numbers))\n",
    "print(even_numbers)  # 출력: [2, 4, 6, 8, 10]\n",
    "# is_even 함수를 만족하는 값들로 시퀀스가 만들어짐\n",
    "\n",
    "words = [\"apple\", \"banana\", \"cherry\", \"date\", \"elderberry\"]\n",
    "\n",
    "is_long_word = lambda word: len(word) > 5 # 람다함수와 조합도 가능\n",
    "\n",
    "long_words = list(filter(is_long_word, words))\n",
    "print(long_words)"
   ]
  },
  {
   "cell_type": "markdown",
   "metadata": {},
   "source": [
    "### zip함수"
   ]
  },
  {
   "cell_type": "code",
   "execution_count": null,
   "metadata": {},
   "outputs": [
    {
     "name": "stdout",
     "output_type": "stream",
     "text": [
      "<zip object at 0x0000023C49831E00>\n",
      "[('Alice', 25), ('Bob', 30), ('Charlie', 28)]\n",
      "Alice은(는) 25살입니다.\n",
      "Bob은(는) 30살입니다.\n",
      "Charlie은(는) 28살입니다.\n"
     ]
    }
   ],
   "source": [
    "# zip함수 : 동일한 인덱스에 있는 요소들을 튜플의 형태로 묶음\n",
    "names = [\"Alice\", \"Bob\", \"Charlie\"]\n",
    "ages = [25, 30, 28]\n",
    "print(zip(names, ages)) # 튜플 덩어리임\n",
    "\n",
    "# 두 리스트를 튜플의 형태로 묶어 리스트로 출력\n",
    "# [('Alice', 25), ('Bob', 30), ('Charlie', 28)]\n",
    "print(list(zip(names, ages)))\n",
    "\n",
    "# 반복문을 사용하여 각 튜플의 요소에 접근\n",
    "zipped = zip(names, ages)\n",
    "for name, age in zipped:\n",
    "    print(f\"{name}은(는) {age}살입니다.\")\n",
    "# for는 시퀀스 데이터들 전부 호환이 됨"
   ]
  }
 ],
 "metadata": {
  "kernelspec": {
   "display_name": ".venv",
   "language": "python",
   "name": "python3"
  },
  "language_info": {
   "codemirror_mode": {
    "name": "ipython",
    "version": 3
   },
   "file_extension": ".py",
   "mimetype": "text/x-python",
   "name": "python",
   "nbconvert_exporter": "python",
   "pygments_lexer": "ipython3",
   "version": "3.10.6"
  }
 },
 "nbformat": 4,
 "nbformat_minor": 2
}
