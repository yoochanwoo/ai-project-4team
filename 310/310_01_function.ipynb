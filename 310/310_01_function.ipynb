{
 "cells": [
  {
   "cell_type": "markdown",
   "metadata": {},
   "source": [
    "## 함수"
   ]
  },
  {
   "cell_type": "code",
   "execution_count": null,
   "metadata": {},
   "outputs": [
    {
     "name": "stdout",
     "output_type": "stream",
     "text": [
      "hello!\n",
      "11\n",
      "60\n",
      "양수입니다\n",
      "음수입니다\n",
      "0입니다\n",
      "로그인 성공\n",
      "로그인 실패\n",
      "로그인 실패\n",
      "8\n",
      "8\n",
      "1\n",
      "[2, 6, 8]\n",
      "1개월 차 : 500,000원 저축\n",
      "2개월 차 : 1,000,000원 저축\n",
      "3개월 차 : 1,500,000원 저축\n",
      "4개월 차 : 2,000,000원 저축\n",
      "5개월 차 : 2,500,000원 저축\n",
      "6개월 차 : 3,000,000원 저축\n",
      "7개월 차 : 3,500,000원 저축\n",
      "8개월 차 : 4,000,000원 저축\n",
      "9개월 차 : 4,500,000원 저축\n",
      "10개월 차 : 5,000,000원 저축\n",
      "11개월 차 : 5,500,000원 저축\n",
      "12개월 차 : 6,000,000원 저축\n",
      "13개월 차 : 6,500,000원 저축\n",
      "14개월 차 : 7,000,000원 저축\n",
      "15개월 차 : 7,500,000원 저축\n",
      "16개월 차 : 8,000,000원 저축\n",
      "17개월 차 : 8,500,000원 저축\n",
      "18개월 차 : 9,000,000원 저축\n",
      "19개월 차 : 9,500,000원 저축\n",
      "20개월 차 : 10,000,000원 저축\n",
      "20개월만에 목표금액 달성\n",
      "정답입니다! 1번 만에 맞추셨습니다\n"
     ]
    }
   ],
   "source": [
    "def greet():\n",
    "    print(\"hello!\")\n",
    "\n",
    "def add(a,b):\n",
    "    return a+b\n",
    "\n",
    "num1=8\n",
    "num2=3\n",
    "sumnum1 = add(num1,num2)\n",
    "\n",
    "greet()\n",
    "print(sumnum1)\n",
    "# 함수는 def로 선언 가능 (java에서 function과 비슷)\n",
    "# 매개변수(필드)는 괄호 안에 넣음 => 매개변수는 튜플로 작동됨\n",
    "\n",
    "def greet2(name=\"홍길동\"):\n",
    "    print(f\"안녕하세요 {name}님\")\n",
    "\n",
    "def multuple(*args):\n",
    "    result=1\n",
    "    for num in args:\n",
    "        result *=num\n",
    "    return result\n",
    "print(multuple(3,4,5))\n",
    "# args : 임의의 개수의 숫자를 받아들임\n",
    "#   - 매개변수의 수량을 제한하지 않는 것\n",
    "\n",
    "def ck_num(num):\n",
    "    if num>0:\n",
    "        return \"양수입니다\"\n",
    "    elif num<0:\n",
    "        return \"음수입니다\"\n",
    "    else:\n",
    "        return \"0입니다\"\n",
    "\n",
    "print(ck_num(15))\n",
    "print(ck_num(-5))\n",
    "print(ck_num(0))\n",
    "\n",
    "def login(id,pwd):\n",
    "    if id==\"himan\" and pwd==\"1234\":\n",
    "        return \"로그인 성공\"\n",
    "    else:\n",
    "        return \"로그인 실패\"\n",
    "\n",
    "#print(login(input(\"아이디를 입력하세요 : \"),input(\"비밀번호를 입력하세요 : \")))\n",
    "print(login(\"himan\",\"1234\"))\n",
    "print(login(\"himam\",\"1234\"))\n",
    "print(login(\"himan\",\"2234\"))\n",
    "\n",
    "def find_max(numbers):\n",
    "    max_num = numbers[0]\n",
    "    for num in numbers:\n",
    "        if num>max_num:\n",
    "            max_num=num\n",
    "    return max_num\n",
    "\n",
    "nums =[1,7,2,5,6,8,3]\n",
    "print(find_max(nums))\n",
    "print(max(nums)) # 기본적으로 있음\n",
    "print(min(nums)) # 기본적으로 있음\n",
    "\n",
    "def find_even_numbers(numbers):\n",
    "    even_numbers=[]\n",
    "    for num in numbers:\n",
    "        if num%2==0:\n",
    "            even_numbers.append(num)\n",
    "    return even_numbers\n",
    "\n",
    "print(find_even_numbers(nums))\n",
    "\n",
    "def save_monny_simulation(target_monny,save_monny):\n",
    "    total=0\n",
    "    months=0\n",
    "    while total<target_monny:\n",
    "        total+=save_monny\n",
    "        months+=1\n",
    "        print(f\"{months}개월 차 : {total:,}원 저축\")    # total:, : 1000단위로 콤마를 찍음\n",
    "    return f\"{months}개월만에 목표금액 달성\"\n",
    "\n",
    "print(save_monny_simulation(10000000,500000))\n",
    "\n",
    "def guess_num(answer):\n",
    "    count = 0\n",
    "    guess = None    # 아무 값도 할당하지 않은 상태 (null)\n",
    "    while guess!=answer:\n",
    "        guess=int(input(\"숫자를 맞춰보세요 : \"))\n",
    "        count+=1\n",
    "        if guess>answer:\n",
    "            print(\"더 큰 숫자입니다\")\n",
    "        elif guess<answer:\n",
    "            print(\"더 작은 숫자입니다\")\n",
    "    return f\"정답입니다! {count}번 만에 맞추셨습니다\"\n",
    "\n",
    "print(guess_num(83))\n",
    "\n",
    "\n",
    "\n",
    "def normalize_data(numbers):\n",
    "    \"\"\"\n",
    "    데이터를 0~1 사이의 값으로 정규화하는 함수 (%비율로 조정)\n",
    "    정규화 = (값 - 최소값) / (최대값 - 최소값)\n",
    "    매개변수:\n",
    "    numbers: 정규화할 숫자 리스트\n",
    "    반환값:\n",
    "    정규화된 데이터 리스트 (0~1 사이의 값)\n",
    "    \"\"\"\n",
    "    min_value = min(numbers) # 데이터의 최소값\n",
    "    max_value = max(numbers) # 데이터의 최대값\n",
    "    normalized = [] #정규화된 값을 저장할 리스트\n",
    "    for num in numbers:\n",
    "        # 정규화 공식 적용\n",
    "        norm_value = (num - min_value) / (max_value - min_value)\n",
    "        normalized.append(norm_value)\n",
    "    return normalized\n",
    "\n",
    "def split_data(data, train_ratio=0.8):\n",
    "    \"\"\"\n",
    "    ## 리스트를 일정비율(train_ratio)로 분할하는 함수\n",
    "    ## train_ratio가 0.8 이므로 8:2 로 나뉨\n",
    "    ## AI 학습에 사용됨\n",
    "    \n",
    "    데이터를 학습용(80%)과 테스트용(20%)으로 분리하는 함수\n",
    "    매개변수:\n",
    "    data: 분할할 데이터 리스트\n",
    "    train_ratio: 학습 데이터의 비율 (기본값 0.8 = 80%)\n",
    "    반환값:\n",
    "    train_data : 학습용 데이터\n",
    "    test_data: 테스트용 데이터\n",
    "    \"\"\"\n",
    "    # 학습 데이터 개수 계산\n",
    "    split_index = int(len(data) * train_ratio) # len함수 : 문자열, 리스트, 튜플 등 길이 측정\n",
    "    # split_index : 데이터의 80퍼센트 길이\n",
    "    # 데이터 분할\n",
    "    train_data = data[:split_index] # 처음부터 split_index까지\n",
    "    # train_data : 전체데이터에서 뒤 20% 를 자름\n",
    "    test_data = data[split_index:] # split_index부터 끝까지\n",
    "    # test_data : 전체데이터에서 뒤 20% 부분\n",
    "    return train_data, test_data\n",
    "# 데이터 분할 함수 사용 예시\n",
    "full_data = [1, 2, 3, 4, 5, 6, 7, 8, 9, 10]\n",
    "print(\"===== 데이터 분할 예제 =====\")\n",
    "print(\" 전체 데이터:\", full_data) # 콤마(,)로 결과로 나오는 리스트의 요소 값을 구분\n",
    "# 80:20으로 분할\n",
    "train, test = split_data(full_data)\n",
    "print(\"\\기본 비율(80%)로 분할:\")\n",
    "print(\"학습 데이터:\", train) # 학습 데이터 : [1, 2, 3, 4, 5, 6, 7, 8]\n",
    "print(\"테스트 데이터:\", test) # 테스트 데이터 : [9, 10]"
   ]
  },
  {
   "cell_type": "markdown",
   "metadata": {},
   "source": [
    "## 람다함수"
   ]
  },
  {
   "cell_type": "code",
   "execution_count": null,
   "metadata": {},
   "outputs": [],
   "source": [
    "# 한 줄로 작성되는 간단한 함수를 만들 때 주로 사용\n",
    "\n",
    "multi1 = lambda x,y:x*y\n",
    "\n",
    "def multi2(x,y):\n",
    "    return x*y\n",
    "\n",
    "print(multi1(5,8))\n",
    "print(multi2(5,8))\n",
    "\n",
    "# 조건문 사용\n",
    "check_even = lambda x:\"짝수\" if x % 2 == 0 else \"홀수\" # 한 줄로 조건문 쓰는 방식\n",
    "# 람다함수는 한 줄로만 선언할 수 있다\n",
    "print(check_even(4))\n",
    "\n",
    "# sorted 사용 예제(새로운 메모리주소 할당, 원본 보존)\n",
    "numbers = [5, 2, 9, 1]\n",
    "sorted_numbers = sorted(numbers, key=lambda x: x) # 람다함수는 인자에 들어갈 수 있다\n",
    "# sorted(iterable, key=key, reverse=reverse)\n",
    "\"\"\"\n",
    "시퀀스 데이터를 정렬하여 새로 만드는 내장함수\n",
    "iterable : 정렬할 시퀀스 데이터\n",
    "key=key : 정렬 기준이 되는 조건\n",
    "reverse=reverse : 정렬순서 조건. 기본값은 False이고, True라면 내림차순으로 정렬됨\n",
    "\"\"\"\n",
    "print(sorted_numbers)\n",
    "\n",
    "# sort 사용 예제\n",
    "# 대상 시퀀스를 정렬하는 내장함수\n",
    "# sorted는 정렬하여 새로 만드는 것임\n",
    "numbers.sort(key=lambda x: x)\n",
    "print(numbers)"
   ]
  },
  {
   "cell_type": "markdown",
   "metadata": {},
   "source": [
    "## 내장함수"
   ]
  },
  {
   "cell_type": "markdown",
   "metadata": {},
   "source": [
    "### len함수"
   ]
  },
  {
   "cell_type": "code",
   "execution_count": null,
   "metadata": {},
   "outputs": [],
   "source": [
    "# 시퀀스 데이터 요소의 개수를 출력하는 함수\n",
    "my_list = [1, 2, 3, 4, 5]\n",
    "list_length = len(my_list)\n",
    "print(f\"리스트의 길이는 {list_length}입니다.\")\n",
    "\n",
    "my_tuple = (10, 20, 30)\n",
    "tuple_length = len(my_tuple)\n",
    "print(f\"튜플의 길이는 {tuple_length}입니다.\")"
   ]
  },
  {
   "cell_type": "markdown",
   "metadata": {},
   "source": [
    "### filter함수"
   ]
  },
  {
   "cell_type": "code",
   "execution_count": 2,
   "metadata": {},
   "outputs": [
    {
     "name": "stdout",
     "output_type": "stream",
     "text": [
      "[2, 4, 6, 8, 10]\n",
      "['banana', 'cherry', 'elderberry']\n"
     ]
    }
   ],
   "source": [
    "# filter 함수 : 조건으로 시퀀스를 필터링 하는 함수. 형식은 filter(함수, 시퀀스)\n",
    "\n",
    "numbers = [1, 2, 3, 4, 5, 6, 7, 8, 9, 10]\n",
    "\n",
    "def is_even(n):\n",
    "    return n % 2 == 0 # 함수는 bool 값을 출력해야함\n",
    "\n",
    "even_numbers = list(filter(is_even, numbers))\n",
    "print(even_numbers)  # 출력: [2, 4, 6, 8, 10]\n",
    "\n",
    "\n",
    "words = [\"apple\", \"banana\", \"cherry\", \"date\", \"elderberry\"]\n",
    "\n",
    "is_long_word = lambda word: len(word) > 5 # 람다함수로도 할 수 있음\n",
    "\n",
    "long_words = list(filter(is_long_word, words))\n",
    "print(long_words)   # 출력: ['banana', 'cherry', 'elderberry']\n",
    "\n",
    "#long_words = list(filter(len(words) > 5, words)) : 함수를 정의해서 넣어야한다"
   ]
  },
  {
   "cell_type": "markdown",
   "metadata": {},
   "source": [
    "### zip함수"
   ]
  },
  {
   "cell_type": "code",
   "execution_count": null,
   "metadata": {},
   "outputs": [
    {
     "name": "stdout",
     "output_type": "stream",
     "text": [
      "<zip object at 0x000002BD9D38A340>\n",
      "[('Alice', 25), ('Bob', 30), ('Charlie', 28)]\n",
      "Alice은(는) 25살입니다.\n",
      "Bob은(는) 30살입니다.\n",
      "Charlie은(는) 28살입니다.\n"
     ]
    }
   ],
   "source": [
    "# zip함수 : 동일한 인덱스에 있는 요소들을 묶어서 튜플의 형태로 반환\n",
    "names = [\"Alice\", \"Bob\", \"Charlie\"]\n",
    "ages = [25, 30, 28]\n",
    "\n",
    "# 두 리스트를 묶어서 튜플 집합의 형태로 만듦\n",
    "print(zip(names, ages)) # 튜플 덩어리\n",
    "print(list(zip(names, ages))) # 이를 리스트로 반환\n",
    "\n",
    "# 반복문을 사용하여 각 튜플의 요소에 접근\n",
    "zipped = zip(names, ages)\n",
    "for name, age in zipped:\n",
    "    print(f\"{name}은(는) {age}살입니다.\")\n",
    "# for는 zip으로 묶인 데이터도 반복시킬 수 있음"
   ]
  },
  {
   "cell_type": "markdown",
   "metadata": {},
   "source": [
    "### split함수"
   ]
  },
  {
   "cell_type": "code",
   "execution_count": 10,
   "metadata": {},
   "outputs": [
    {
     "name": "stdout",
     "output_type": "stream",
     "text": [
      "Black Pink\n",
      "['Black', 'Pink']\n",
      "['Blac', ' Pin', '']\n",
      "['Black ', 'nk']\n",
      "Black\n"
     ]
    }
   ],
   "source": [
    "# split(문자) : 해당 문자를 기준으로 분할하여 리스트로 반환하는 메서드. default는 공백(\" \")\n",
    "full_name = 'Black Pink'\n",
    "print(full_name)\n",
    "print(full_name.split())\n",
    "print(full_name.split(\"k\"))\n",
    "print(full_name.split(\"Pi\"))\n",
    "print(full_name.split()[0]) # 리스트의 형태이므로 인덱스로도 접근 가능\n"
   ]
  },
  {
   "cell_type": "markdown",
   "metadata": {},
   "source": [
    "### upper, lower, title 함수"
   ]
  },
  {
   "cell_type": "code",
   "execution_count": 11,
   "metadata": {},
   "outputs": [
    {
     "name": "stdout",
     "output_type": "stream",
     "text": [
      "BLACKPINK\n",
      "blackpink\n",
      "Blackpink\n"
     ]
    }
   ],
   "source": [
    "name = \"BlackPink\"\n",
    "print(name.upper()) # 모두 대문자로\n",
    "print(name.lower()) # 모두 소문자로\n",
    "print(name.title()) # 첫글자만 대문자로"
   ]
  },
  {
   "cell_type": "markdown",
   "metadata": {},
   "source": [
    "### 기타"
   ]
  },
  {
   "cell_type": "code",
   "execution_count": null,
   "metadata": {},
   "outputs": [
    {
     "name": "stdout",
     "output_type": "stream",
     "text": [
      "Hello\n",
      "Python\n",
      "Hello\tPython\n",
      "Hello\\Python\n",
      "안녕하세요, Alice입니다. 저는 30살입니다.\n",
      "안녕하세요, Alice입니다. 저는 30살입니다.\n",
      "3.1\n",
      "3.14\n",
      "3.142\n",
      "8\n",
      "<map object at 0x000002BD9BF8C970>\n",
      "[2, 4, 6, 8, 10]\n",
      "['APPLE', 'BANANA', 'CHERRY']\n",
      "<enumerate object at 0x000002BD9D4039C0>\n",
      "[(0, 'apple'), (1, 'banana'), (2, 'cherry')]\n",
      "0 apple\n",
      "1 banana\n",
      "2 cherry\n",
      "1번 과일 : APPLE\n",
      "2번 과일 : BANANA\n",
      "3번 과일 : CHERRY\n"
     ]
    }
   ],
   "source": [
    "print(\"Hello\\nPython\") # 줄내림\n",
    "print(\"Hello\\tPython\") # 탭\n",
    "print(\"Hello\\\\Python\") # 백슬래시 출력\n",
    "\n",
    "# format 함수 : f-string과 유사\n",
    "name = \"Alice\"\n",
    "age = 30\n",
    "\n",
    "greeting1 = \"안녕하세요, {}입니다. 저는 {}살입니다.\".format(name, age)\n",
    "print(greeting1)  # 출력: 안녕하세요, Alice입니다. 저는 30살입니다.\n",
    "\n",
    "# 고전 방식\n",
    "greeting2 = \"안녕하세요, %s입니다. 저는 %d살입니다.\" % (name, age)\n",
    "print(greeting2)  # 출력: 안녕하세요, Alice입니다. 저는 30살입니다.\n",
    "\n",
    "# round 함수 : 숫자 반올림\n",
    "number = 3.14159\n",
    "rounded_number1 = round(number, 1) # 소수점 첫째 자리에서 반올림\n",
    "rounded_number2 = round(number, 2) # 소수점 둘째 자리에서 반올림\n",
    "rounded_number3 = round(number, 3) # 소수점 셋째 자리에서 반올림\n",
    "print(rounded_number1)\n",
    "print(rounded_number2)\n",
    "print(rounded_number3)\n",
    "\n",
    "# pow 함수 : 밑수를 지수승으로 계산\n",
    "# 2의 3승 계산\n",
    "result = pow(2, 3) # 2**3 (2^3)\n",
    "print(result)\n",
    "\n",
    "# map 함수 : 데이터를 일정한 방식(함수)으로 모두 처리해주는 역할\n",
    "# 리스트의 모든 요소를 두 배로 만들기\n",
    "numbers = [1, 2, 3, 4, 5]\n",
    "print(map(lambda x: x * 2, numbers)) # 요소 덩어리임\n",
    "# numbers들의 요소들을 2배 처리한 묶음\n",
    "print(list(map(lambda x: x * 2, numbers))) # 리스트로 처리\n",
    "\n",
    "\n",
    "words = ['apple', 'banana', 'cherry']\n",
    "\n",
    "# 문자열을 대문자로 바꾸는 함수\n",
    "def to_upper(s):\n",
    "    return s.upper()\n",
    "\n",
    "# map 함수를 사용하여 각 문자열을 대문자로 변환\n",
    "result = list(map(to_upper, words))\n",
    "print(result)\n",
    "\n",
    "\n",
    "# enumerate 함수 : 각 요소에 대해 인덱스값과 벨류값을 튜플로 생성 : (index, value)\n",
    "fruits = ['apple', 'banana', 'cherry']\n",
    "print(enumerate(fruits)) # 튜플 덩어리\n",
    "print(list(enumerate(fruits))) # 리스트로 처리\n",
    "for index, fruit in enumerate(fruits):\n",
    "    print(index, fruit)\n",
    "for a, b in enumerate(result):\n",
    "    print(f\"{a+1}번 과일 : {b}\")"
   ]
  },
  {
   "cell_type": "markdown",
   "metadata": {},
   "source": [
    "### with문"
   ]
  },
  {
   "cell_type": "code",
   "execution_count": 3,
   "metadata": {},
   "outputs": [
    {
     "name": "stdout",
     "output_type": "stream",
     "text": [
      "c:\\pythontest\\310\n",
      "['308_01_function.ipynb', '310_01_function.ipynb', '310_02_try_catch.ipynb', '310_03_function_quiz.ipynb', 'ai_project', 'human.txt']\n"
     ]
    }
   ],
   "source": [
    "# with문 예시\n",
    "with open('human.txt', 'a') as f:\n",
    "    f.write('Hello Python!\\n')  # 두 번의 줄바꿈으로 한 줄 공백 추가\n",
    "    f.write('This is with function.\\n')\n",
    "    \n",
    "\"\"\"\n",
    "한글을 사용하니 글자가 깨짐\n",
    "with open('human.txt', 'a') as f:\n",
    "    f.write('안녕하세요 홍길동입니다.\\n')  # 두 번의 줄바꿈으로 한 줄 공백 추가\n",
    "    f.write('파이썬 with문 예시입니다.\\n')\n",
    "\"\"\"\n",
    "\n",
    "# human.txt를 열어서 문자열데이터를 입력한 것\n",
    "\n",
    "import os\n",
    "print(os.getcwd())  # 현재 작업 디렉토리 확인\n",
    "print(os.listdir())  # 현재 디렉토리의 파일 목록 확인"
   ]
  },
  {
   "cell_type": "markdown",
   "metadata": {},
   "source": [
    "### Numpy함수"
   ]
  },
  {
   "cell_type": "code",
   "execution_count": 1,
   "metadata": {},
   "outputs": [
    {
     "ename": "ModuleNotFoundError",
     "evalue": "No module named 'numpy'",
     "output_type": "error",
     "traceback": [
      "\u001b[1;31m---------------------------------------------------------------------------\u001b[0m",
      "\u001b[1;31mModuleNotFoundError\u001b[0m                       Traceback (most recent call last)",
      "Cell \u001b[1;32mIn[1], line 1\u001b[0m\n\u001b[1;32m----> 1\u001b[0m \u001b[38;5;28;01mimport\u001b[39;00m\u001b[38;5;250m \u001b[39m\u001b[38;5;21;01mnumpy\u001b[39;00m\u001b[38;5;250m \u001b[39m\u001b[38;5;28;01mas\u001b[39;00m\u001b[38;5;250m \u001b[39m\u001b[38;5;21;01mnp\u001b[39;00m\n\u001b[0;32m      2\u001b[0m arr1 \u001b[38;5;241m=\u001b[39m np\u001b[38;5;241m.\u001b[39marray([\u001b[38;5;241m1\u001b[39m,\u001b[38;5;241m2\u001b[39m,\u001b[38;5;241m3\u001b[39m])\n\u001b[0;32m      3\u001b[0m \u001b[38;5;28mprint\u001b[39m(arr1)\n",
      "\u001b[1;31mModuleNotFoundError\u001b[0m: No module named 'numpy'"
     ]
    }
   ],
   "source": [
    "import numpy as np\n",
    "arr1 = np.array([1,2,3])\n",
    "print(arr1)\n",
    "arr2 = np.arange(0, 10, 2)\n",
    "print(arr2)\n",
    "arr3 = np.random.rand(3,3)\n",
    "print(arr3)\n",
    "arr4 = arr3.reshape(1,9)\n",
    "print(arr4)"
   ]
  }
 ],
 "metadata": {
  "kernelspec": {
   "display_name": ".venv",
   "language": "python",
   "name": "python3"
  },
  "language_info": {
   "codemirror_mode": {
    "name": "ipython",
    "version": 3
   },
   "file_extension": ".py",
   "mimetype": "text/x-python",
   "name": "python",
   "nbconvert_exporter": "python",
   "pygments_lexer": "ipython3",
   "version": "3.10.6"
  }
 },
 "nbformat": 4,
 "nbformat_minor": 2
}
