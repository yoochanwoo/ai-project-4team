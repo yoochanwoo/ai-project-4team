{
 "cells": [
  {
   "cell_type": "markdown",
   "metadata": {},
   "source": [
    "## 탐색적 데이터분석 (EDA)"
   ]
  },
  {
   "cell_type": "code",
   "execution_count": 6,
   "metadata": {},
   "outputs": [
    {
     "name": "stdout",
     "output_type": "stream",
     "text": [
      "Collecting ydata-profiling\n",
      "  Using cached ydata_profiling-4.14.0-py2.py3-none-any.whl.metadata (22 kB)\n",
      "Requirement already satisfied: scipy<1.16,>=1.4.1 in c:\\newtest\\.venv\\lib\\site-packages (from ydata-profiling) (1.15.2)\n",
      "Requirement already satisfied: pandas!=1.4.0,<3.0,>1.1 in c:\\newtest\\.venv\\lib\\site-packages (from ydata-profiling) (2.2.3)\n",
      "Requirement already satisfied: matplotlib<=3.10,>=3.5 in c:\\newtest\\.venv\\lib\\site-packages (from ydata-profiling) (3.10.0)\n",
      "Requirement already satisfied: pydantic>=2 in c:\\newtest\\.venv\\lib\\site-packages (from ydata-profiling) (2.10.6)\n",
      "Requirement already satisfied: PyYAML<6.1,>=5.0.0 in c:\\newtest\\.venv\\lib\\site-packages (from ydata-profiling) (6.0.2)\n",
      "Requirement already satisfied: jinja2<3.2,>=2.11.1 in c:\\newtest\\.venv\\lib\\site-packages (from ydata-profiling) (3.1.6)\n",
      "Requirement already satisfied: visions<0.8.2,>=0.7.5 in c:\\newtest\\.venv\\lib\\site-packages (from visions[type_image_path]<0.8.2,>=0.7.5->ydata-profiling) (0.8.1)\n",
      "Requirement already satisfied: numpy<2.2,>=1.16.0 in c:\\newtest\\.venv\\lib\\site-packages (from ydata-profiling) (2.1.3)\n",
      "Requirement already satisfied: htmlmin==0.1.12 in c:\\newtest\\.venv\\lib\\site-packages (from ydata-profiling) (0.1.12)\n",
      "Collecting phik<0.13,>=0.11.1 (from ydata-profiling)\n",
      "  Using cached phik-0.12.4-cp310-cp310-win_amd64.whl.metadata (5.6 kB)\n",
      "Requirement already satisfied: requests<3,>=2.24.0 in c:\\newtest\\.venv\\lib\\site-packages (from ydata-profiling) (2.32.3)\n",
      "Requirement already satisfied: tqdm<5,>=4.48.2 in c:\\newtest\\.venv\\lib\\site-packages (from ydata-profiling) (4.67.1)\n",
      "Requirement already satisfied: seaborn<0.14,>=0.10.1 in c:\\newtest\\.venv\\lib\\site-packages (from ydata-profiling) (0.13.2)\n",
      "Requirement already satisfied: multimethod<2,>=1.4 in c:\\newtest\\.venv\\lib\\site-packages (from ydata-profiling) (1.12)\n",
      "Requirement already satisfied: statsmodels<1,>=0.13.2 in c:\\newtest\\.venv\\lib\\site-packages (from ydata-profiling) (0.14.4)\n",
      "Requirement already satisfied: typeguard<5,>=3 in c:\\newtest\\.venv\\lib\\site-packages (from ydata-profiling) (4.4.2)\n",
      "Collecting imagehash==4.3.1 (from ydata-profiling)\n",
      "  Using cached ImageHash-4.3.1-py2.py3-none-any.whl.metadata (8.0 kB)\n",
      "Collecting wordcloud>=1.9.3 (from ydata-profiling)\n",
      "  Using cached wordcloud-1.9.4-cp310-cp310-win_amd64.whl.metadata (3.5 kB)\n",
      "Requirement already satisfied: dacite>=1.8 in c:\\newtest\\.venv\\lib\\site-packages (from ydata-profiling) (1.9.2)\n",
      "Requirement already satisfied: numba<1,>=0.56.0 in c:\\newtest\\.venv\\lib\\site-packages (from ydata-profiling) (0.61.0)\n",
      "Requirement already satisfied: PyWavelets in c:\\newtest\\.venv\\lib\\site-packages (from imagehash==4.3.1->ydata-profiling) (1.8.0)\n",
      "Requirement already satisfied: pillow in c:\\newtest\\.venv\\lib\\site-packages (from imagehash==4.3.1->ydata-profiling) (11.1.0)\n",
      "Requirement already satisfied: MarkupSafe>=2.0 in c:\\newtest\\.venv\\lib\\site-packages (from jinja2<3.2,>=2.11.1->ydata-profiling) (3.0.2)\n",
      "Requirement already satisfied: contourpy>=1.0.1 in c:\\newtest\\.venv\\lib\\site-packages (from matplotlib<=3.10,>=3.5->ydata-profiling) (1.3.1)\n",
      "Requirement already satisfied: cycler>=0.10 in c:\\newtest\\.venv\\lib\\site-packages (from matplotlib<=3.10,>=3.5->ydata-profiling) (0.12.1)\n",
      "Requirement already satisfied: fonttools>=4.22.0 in c:\\newtest\\.venv\\lib\\site-packages (from matplotlib<=3.10,>=3.5->ydata-profiling) (4.56.0)\n",
      "Requirement already satisfied: kiwisolver>=1.3.1 in c:\\newtest\\.venv\\lib\\site-packages (from matplotlib<=3.10,>=3.5->ydata-profiling) (1.4.8)\n",
      "Requirement already satisfied: packaging>=20.0 in c:\\newtest\\.venv\\lib\\site-packages (from matplotlib<=3.10,>=3.5->ydata-profiling) (24.2)\n",
      "Requirement already satisfied: pyparsing>=2.3.1 in c:\\newtest\\.venv\\lib\\site-packages (from matplotlib<=3.10,>=3.5->ydata-profiling) (3.2.1)\n",
      "Requirement already satisfied: python-dateutil>=2.7 in c:\\newtest\\.venv\\lib\\site-packages (from matplotlib<=3.10,>=3.5->ydata-profiling) (2.9.0.post0)\n",
      "Requirement already satisfied: llvmlite<0.45,>=0.44.0dev0 in c:\\newtest\\.venv\\lib\\site-packages (from numba<1,>=0.56.0->ydata-profiling) (0.44.0)\n",
      "Requirement already satisfied: pytz>=2020.1 in c:\\newtest\\.venv\\lib\\site-packages (from pandas!=1.4.0,<3.0,>1.1->ydata-profiling) (2025.1)\n",
      "Requirement already satisfied: tzdata>=2022.7 in c:\\newtest\\.venv\\lib\\site-packages (from pandas!=1.4.0,<3.0,>1.1->ydata-profiling) (2025.1)\n",
      "Requirement already satisfied: joblib>=0.14.1 in c:\\newtest\\.venv\\lib\\site-packages (from phik<0.13,>=0.11.1->ydata-profiling) (1.4.2)\n",
      "Requirement already satisfied: annotated-types>=0.6.0 in c:\\newtest\\.venv\\lib\\site-packages (from pydantic>=2->ydata-profiling) (0.7.0)\n",
      "Requirement already satisfied: pydantic-core==2.27.2 in c:\\newtest\\.venv\\lib\\site-packages (from pydantic>=2->ydata-profiling) (2.27.2)\n",
      "Requirement already satisfied: typing-extensions>=4.12.2 in c:\\newtest\\.venv\\lib\\site-packages (from pydantic>=2->ydata-profiling) (4.12.2)\n",
      "Requirement already satisfied: charset-normalizer<4,>=2 in c:\\newtest\\.venv\\lib\\site-packages (from requests<3,>=2.24.0->ydata-profiling) (3.4.1)\n",
      "Requirement already satisfied: idna<4,>=2.5 in c:\\newtest\\.venv\\lib\\site-packages (from requests<3,>=2.24.0->ydata-profiling) (3.10)\n",
      "Requirement already satisfied: urllib3<3,>=1.21.1 in c:\\newtest\\.venv\\lib\\site-packages (from requests<3,>=2.24.0->ydata-profiling) (2.3.0)\n",
      "Requirement already satisfied: certifi>=2017.4.17 in c:\\newtest\\.venv\\lib\\site-packages (from requests<3,>=2.24.0->ydata-profiling) (2025.1.31)\n",
      "Requirement already satisfied: patsy>=0.5.6 in c:\\newtest\\.venv\\lib\\site-packages (from statsmodels<1,>=0.13.2->ydata-profiling) (1.0.1)\n",
      "Requirement already satisfied: colorama in c:\\newtest\\.venv\\lib\\site-packages (from tqdm<5,>=4.48.2->ydata-profiling) (0.4.6)\n",
      "Requirement already satisfied: attrs>=19.3.0 in c:\\newtest\\.venv\\lib\\site-packages (from visions<0.8.2,>=0.7.5->visions[type_image_path]<0.8.2,>=0.7.5->ydata-profiling) (25.2.0)\n",
      "Requirement already satisfied: networkx>=2.4 in c:\\newtest\\.venv\\lib\\site-packages (from visions<0.8.2,>=0.7.5->visions[type_image_path]<0.8.2,>=0.7.5->ydata-profiling) (3.4.2)\n",
      "Requirement already satisfied: puremagic in c:\\newtest\\.venv\\lib\\site-packages (from visions<0.8.2,>=0.7.5->visions[type_image_path]<0.8.2,>=0.7.5->ydata-profiling) (1.28)\n",
      "Requirement already satisfied: six>=1.5 in c:\\newtest\\.venv\\lib\\site-packages (from python-dateutil>=2.7->matplotlib<=3.10,>=3.5->ydata-profiling) (1.17.0)\n",
      "Using cached ydata_profiling-4.14.0-py2.py3-none-any.whl (393 kB)\n",
      "Using cached ImageHash-4.3.1-py2.py3-none-any.whl (296 kB)\n",
      "Using cached phik-0.12.4-cp310-cp310-win_amd64.whl (666 kB)\n",
      "Using cached wordcloud-1.9.4-cp310-cp310-win_amd64.whl (299 kB)\n",
      "Installing collected packages: imagehash, wordcloud, phik, ydata-profiling\n",
      "Successfully installed imagehash-4.3.1 phik-0.12.4 wordcloud-1.9.4 ydata-profiling-4.14.0\n",
      "Note: you may need to restart the kernel to use updated packages.\n"
     ]
    },
    {
     "name": "stderr",
     "output_type": "stream",
     "text": [
      "WARNING: Ignoring invalid distribution -atplotlib (c:\\newtest\\.venv\\lib\\site-packages)\n",
      "WARNING: Ignoring invalid distribution -atplotlib (c:\\newtest\\.venv\\lib\\site-packages)\n",
      "WARNING: Ignoring invalid distribution -atplotlib (c:\\newtest\\.venv\\lib\\site-packages)\n"
     ]
    }
   ],
   "source": [
    "%pip install ydata-profiling"
   ]
  },
  {
   "cell_type": "code",
   "execution_count": 1,
   "metadata": {},
   "outputs": [
    {
     "name": "stdout",
     "output_type": "stream",
     "text": [
      "Requirement already satisfied: numpy in c:\\newtest\\.venv\\lib\\site-packages (2.2.3)\n",
      "Collecting numpy\n",
      "  Downloading numpy-2.2.4-cp310-cp310-win_amd64.whl.metadata (60 kB)\n",
      "Downloading numpy-2.2.4-cp310-cp310-win_amd64.whl (12.9 MB)\n",
      "   ---------------------------------------- 0.0/12.9 MB ? eta -:--:--\n",
      "   ------- -------------------------------- 2.4/12.9 MB 11.2 MB/s eta 0:00:01\n",
      "   ------------ --------------------------- 4.2/12.9 MB 10.5 MB/s eta 0:00:01\n",
      "   -------------------- ------------------- 6.6/12.9 MB 10.6 MB/s eta 0:00:01\n",
      "   --------------------------- ------------ 8.9/12.9 MB 10.9 MB/s eta 0:00:01\n",
      "   ---------------------------------- ----- 11.3/12.9 MB 10.8 MB/s eta 0:00:01\n",
      "   ---------------------------------------  12.8/12.9 MB 11.0 MB/s eta 0:00:01\n",
      "   ---------------------------------------- 12.9/12.9 MB 9.4 MB/s eta 0:00:00\n",
      "Installing collected packages: numpy\n",
      "  Attempting uninstall: numpy\n",
      "    Found existing installation: numpy 2.2.3\n",
      "    Uninstalling numpy-2.2.3:\n",
      "      Successfully uninstalled numpy-2.2.3\n",
      "Successfully installed numpy-2.2.4\n",
      "Note: you may need to restart the kernel to use updated packages.\n"
     ]
    },
    {
     "name": "stderr",
     "output_type": "stream",
     "text": [
      "WARNING: Ignoring invalid distribution -atplotlib (c:\\newtest\\.venv\\lib\\site-packages)\n",
      "WARNING: Ignoring invalid distribution -atplotlib (c:\\newtest\\.venv\\lib\\site-packages)\n",
      "  WARNING: Failed to remove contents in a temporary directory 'C:\\NEWTEST\\.venv\\Lib\\site-packages\\~~mpy.libs'.\n",
      "  You can safely remove it manually.\n",
      "  WARNING: Failed to remove contents in a temporary directory 'C:\\NEWTEST\\.venv\\Lib\\site-packages\\~~mpy'.\n",
      "  You can safely remove it manually.\n",
      "WARNING: Ignoring invalid distribution -atplotlib (c:\\newtest\\.venv\\lib\\site-packages)\n",
      "ERROR: pip's dependency resolver does not currently take into account all the packages that are installed. This behaviour is the source of the following dependency conflicts.\n",
      "numba 0.61.0 requires numpy<2.2,>=1.24, but you have numpy 2.2.4 which is incompatible.\n",
      "ydata-profiling 4.14.0 requires matplotlib<=3.10,>=3.5, but you have matplotlib 3.10.1 which is incompatible.\n",
      "ydata-profiling 4.14.0 requires numpy<2.2,>=1.16.0, but you have numpy 2.2.4 which is incompatible.\n"
     ]
    }
   ],
   "source": [
    "%pip install --upgrade numpy"
   ]
  },
  {
   "cell_type": "code",
   "execution_count": 1,
   "metadata": {},
   "outputs": [
    {
     "name": "stderr",
     "output_type": "stream",
     "text": [
      "c:\\Python310\\lib\\site-packages\\tqdm\\auto.py:21: TqdmWarning: IProgress not found. Please update jupyter and ipywidgets. See https://ipywidgets.readthedocs.io/en/stable/user_install.html\n",
      "  from .autonotebook import tqdm as notebook_tqdm\n"
     ]
    },
    {
     "data": {
      "text/html": [
       "\n",
       "        <div>\n",
       "            <ins><a href=\"https://ydata.ai/register\">Upgrade to ydata-sdk</a></ins>\n",
       "            <p>\n",
       "                Improve your data and profiling with ydata-sdk, featuring data quality scoring, redundancy detection, outlier identification, text validation, and synthetic data generation.\n",
       "            </p>\n",
       "        </div>\n",
       "        "
      ],
      "text/plain": [
       "<IPython.core.display.HTML object>"
      ]
     },
     "metadata": {},
     "output_type": "display_data"
    },
    {
     "name": "stdout",
     "output_type": "stream",
     "text": [
      "<class 'pandas.core.frame.DataFrame'>\n",
      "RangeIndex: 768 entries, 0 to 767\n",
      "Data columns (total 9 columns):\n",
      " #   Column                    Non-Null Count  Dtype  \n",
      "---  ------                    --------------  -----  \n",
      " 0   Pregnancies               768 non-null    int64  \n",
      " 1   Glucose                   767 non-null    float64\n",
      " 2   BloodPressure             767 non-null    float64\n",
      " 3   SkinThickness             768 non-null    int64  \n",
      " 4   Insulin                   768 non-null    int64  \n",
      " 5   BMI                       768 non-null    float64\n",
      " 6   DiabetesPedigreeFunction  768 non-null    float64\n",
      " 7   Age                       768 non-null    int64  \n",
      " 8   Outcome                   768 non-null    int64  \n",
      "dtypes: float64(4), int64(5)\n",
      "memory usage: 54.1 KB\n",
      "None\n"
     ]
    },
    {
     "name": "stderr",
     "output_type": "stream",
     "text": [
      "Summarize dataset: 100%|██████████| 83/83 [00:07<00:00, 11.07it/s, Completed]                                                 \n",
      "Generate report structure: 100%|██████████| 1/1 [00:02<00:00,  2.47s/it]\n",
      "Render HTML: 100%|██████████| 1/1 [00:02<00:00,  2.86s/it]\n",
      "Export report to file: 100%|██████████| 1/1 [00:00<00:00, 45.50it/s]"
     ]
    },
    {
     "name": "stdout",
     "output_type": "stream",
     "text": [
      "프로파일링 보고서가 생성되었습니다: report/diabetes_profiling_report.html\n"
     ]
    },
    {
     "name": "stderr",
     "output_type": "stream",
     "text": [
      "\n"
     ]
    }
   ],
   "source": [
    "# 사전 설치 : pip install ydata-profiling\n",
    "# 사전 폴더 생성 : report\n",
    "# numpy 버전 2.2.3 이상 업그레이드(ydata profiling 호환을 위해 업그레이드) : pip insall --upgrade numpy\n",
    "import os\n",
    "import pandas as pd\n",
    "from ydata_profiling import ProfileReport\n",
    "\n",
    "\n",
    "# 데이터 불러오기\n",
    "file_path = 'dataset/diabetes.csv'\n",
    "df = pd.read_csv(file_path)\n",
    "\n",
    "# 데이터 정보 출력\n",
    "print(df.info())\n",
    "\n",
    "# YData Profiling으로 데이터 프로파일링 보고서 생성\n",
    "profile = ProfileReport(df, title=\"Diabetes Dataset Profiling Report\", explorative=True)\n",
    "\n",
    "# 보고서를 HTML 파일로 저장\n",
    "output_file = 'report/diabetes_profiling_report.html'\n",
    "profile.to_file(output_file)\n",
    "print(f\"프로파일링 보고서가 생성되었습니다: {output_file}\")\n"
   ]
  }
 ],
 "metadata": {
  "kernelspec": {
   "display_name": ".venv",
   "language": "python",
   "name": "python3"
  },
  "language_info": {
   "codemirror_mode": {
    "name": "ipython",
    "version": 3
   },
   "file_extension": ".py",
   "mimetype": "text/x-python",
   "name": "python",
   "nbconvert_exporter": "python",
   "pygments_lexer": "ipython3",
   "version": "3.10.6"
  }
 },
 "nbformat": 4,
 "nbformat_minor": 2
}
