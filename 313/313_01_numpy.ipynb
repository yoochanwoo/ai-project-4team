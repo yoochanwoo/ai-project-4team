{
 "cells": [
  {
   "cell_type": "markdown",
   "metadata": {},
   "source": [
    "## numpy 함수"
   ]
  },
  {
   "cell_type": "code",
   "execution_count": null,
   "metadata": {},
   "outputs": [
    {
     "name": "stdout",
     "output_type": "stream",
     "text": [
      "Collecting numpy\n",
      "  Downloading numpy-2.2.3-cp310-cp310-win_amd64.whl.metadata (60 kB)\n",
      "Downloading numpy-2.2.3-cp310-cp310-win_amd64.whl (12.9 MB)\n",
      "   ---------------------------------------- 0.0/12.9 MB ? eta -:--:--\n",
      "   ------- -------------------------------- 2.4/12.9 MB 11.2 MB/s eta 0:00:01\n",
      "   -------------- ------------------------- 4.7/12.9 MB 11.4 MB/s eta 0:00:01\n",
      "   ---------------------- ----------------- 7.3/12.9 MB 11.6 MB/s eta 0:00:01\n",
      "   ------------------------------ --------- 9.7/12.9 MB 11.6 MB/s eta 0:00:01\n",
      "   -------------------------------------- - 12.3/12.9 MB 11.7 MB/s eta 0:00:01\n",
      "   ---------------------------------------- 12.9/12.9 MB 10.7 MB/s eta 0:00:00\n",
      "Installing collected packages: numpy\n",
      "Successfully installed numpy-2.2.3\n",
      "Note: you may need to restart the kernel to use updated packages.\n",
      "2.2.3\n"
     ]
    }
   ],
   "source": [
    "# %pip install numpy 해당 커널에 직접설치\n",
    "import numpy as np\n",
    "print(np.__version__)"
   ]
  },
  {
   "cell_type": "code",
   "execution_count": 15,
   "metadata": {},
   "outputs": [
    {
     "name": "stdout",
     "output_type": "stream",
     "text": [
      "[2, 4, 6]\n",
      "[1 2 3]\n",
      "[2 4 6]\n",
      "[0 2 4 6 8]\n",
      "[[0.93743015 0.61166773 0.82350508 0.55423617 0.03465372]\n",
      " [0.56188681 0.71232292 0.89432829 0.57357776 0.42061875]\n",
      " [0.55069495 0.82422256 0.82563859 0.01666957 0.43127094]\n",
      " [0.01432698 0.54711828 0.21656535 0.69594767 0.90708591]]\n",
      "[[0.28086668 0.23629123 0.05070089 0.14092015]\n",
      " [0.59051023 0.57512145 0.11536065 0.30051482]]\n",
      "[[0.97845289 0.87282746 0.06482239]\n",
      " [0.67331031 0.01411482 0.38833595]\n",
      " [0.90781725 0.57768419 0.87894639]]\n",
      "[[0.97845289 0.87282746 0.06482239 0.67331031 0.01411482 0.38833595\n",
      "  0.90781725 0.57768419 0.87894639]]\n",
      "6\n",
      "2.0\n",
      "2.8284271247461903\n"
     ]
    }
   ],
   "source": [
    "# Numpy 벡터화 연산과 비교하기 위한 list 예제\n",
    "my_list = [1, 2, 3]\n",
    "new_list = [x * 2 for x in my_list]  # 리스트 컴프리헨션 사용\n",
    "print(new_list)\n",
    "\n",
    "# 벡터화 연산 예시\n",
    "my_array = np.array([1, 2, 3])\n",
    "print(my_array)\n",
    "new_array = my_array * 2  # 벡터화된 연산\n",
    "print(new_array)\n",
    "\n",
    "arr1 = np.arange(0, 10, 2) # arrage(start, stop, step)  0 <= x < 10\n",
    "print(arr1)\n",
    "\n",
    "\n",
    "arr2 = np.random.rand(4,5)\n",
    "print(arr2)\n",
    "arr2 = np.random.rand(2,4) # rand(2,4) 2개의 리스트 4개의 요소\n",
    "print(arr2)\n",
    "arr2 = np.random.rand(3,3)\n",
    "print(arr2)\n",
    "\n",
    "arr3 = arr2.reshape(1,9) # reshape(1,9) rand(3,3) 3개의 리스트 3개의 요소를 1개의 리스트 9개의 요소로\n",
    "print(arr3)\n",
    "\n",
    "npsum = np.sum([1,2,3]) # 리스트 내의 요소들의 합\n",
    "print(npsum)\n",
    "\n",
    "print(np.mean([1,2,3]))  # mean : 평균값\n",
    "\n",
    "print(np.std([175,177,179,181,183])) # std : 표준편차"
   ]
  },
  {
   "cell_type": "code",
   "execution_count": 16,
   "metadata": {},
   "outputs": [
    {
     "name": "stdout",
     "output_type": "stream",
     "text": [
      "[ 1  2  3  4  5  6  7  8  9 10]\n",
      "합: 55\n",
      "평균: 5.5\n",
      "표준편차: 2.8722813232690143\n"
     ]
    }
   ],
   "source": [
    "# 1부터 10까지의 숫자를 가진 배열 생성\n",
    "data = np.arange(1, 11) # 1<=x<11\n",
    "print(data)\n",
    "\n",
    "# 합 계산\n",
    "sum_data = np.sum(data)\n",
    "print(\"합:\", sum_data)\n",
    "\n",
    "# 평균 계산\n",
    "mean_data = np.mean(data)\n",
    "print(\"평균:\", mean_data)\n",
    "\n",
    "# 표준편차 계산\n",
    "std_data = np.std(data)\n",
    "print(\"표준편차:\", std_data)"
   ]
  },
  {
   "cell_type": "code",
   "execution_count": null,
   "metadata": {},
   "outputs": [
    {
     "name": "stdout",
     "output_type": "stream",
     "text": [
      "전체 요소의 합: 45\n",
      "각 행의 합: [ 6 15 24]\n",
      "각 열의 합: [12 15 18]\n",
      "전체 요소의 평균: 5.0\n",
      "각 행의 평균: [2. 5. 8.]\n",
      "각 열의 평균: [4. 5. 6.]\n",
      "전체 요소의 표준편차: 2.581988897471611\n",
      "각 행의 표준편차: [0.81649658 0.81649658 0.81649658]\n",
      "각 열의 표준편차: [2.44948974 2.44948974 2.44948974]\n"
     ]
    }
   ],
   "source": [
    "# 2차원 배열 생성\n",
    "data = np.array([[1, 2, 3],\n",
    "                [4, 5, 6],\n",
    "                [7, 8, 9]])\n",
    "# 전체 요소의 합\n",
    "sum_all = np.sum(data)\n",
    "print(\"전체 요소의 합:\", sum_all)\n",
    "\n",
    "# 각 행의 합\n",
    "row_sum = np.sum(data, axis=1) # axis=1 행끼리 / axis=0 열끼리 / 값을 주지 않으면 전체\n",
    "print(\"각 행의 합:\", row_sum)\n",
    "\n",
    "# 각 열의 합\n",
    "col_sum = np.sum(data, axis=0)\n",
    "print(\"각 열의 합:\", col_sum)\n",
    "\n",
    "# 전체 요소의 평균\n",
    "mean_all = np.mean(data)\n",
    "print(\"전체 요소의 평균:\", mean_all)\n",
    "\n",
    "# 각 행의 평균\n",
    "row_mean = np.mean(data, axis=1)\n",
    "print(\"각 행의 평균:\", row_mean)\n",
    "\n",
    "# 각 열의 평균\n",
    "col_mean = np.mean(data, axis=0)\n",
    "print(\"각 열의 평균:\", col_mean)\n",
    "\n",
    "# 전체 요소의 표준편차\n",
    "std_all = np.std(data)\n",
    "print(\"전체 요소의 표준편차:\", std_all)\n",
    "\n",
    "# 각 행의 표준편차\n",
    "row_std = np.std(data, axis=1)\n",
    "print(\"각 행의 표준편차:\", row_std)\n",
    "\n",
    "# 각 열의 표준편차\n",
    "col_std = np.std(data, axis=0)\n",
    "print(\"각 열의 표준편차:\", col_std)"
   ]
  },
  {
   "cell_type": "code",
   "execution_count": null,
   "metadata": {},
   "outputs": [
    {
     "name": "stdout",
     "output_type": "stream",
     "text": [
      "(2, 3)\n",
      "6\n",
      "[2 5]\n",
      "2\n"
     ]
    }
   ],
   "source": [
    "# 1차원 배열 생성\n",
    "arr1 = np.array([1, 2, 3, 4, 5])\n",
    "# 2차원 배열 생성\n",
    "arr2 = np.array([[1, 2, 3],\n",
    "                [4, 5, 6]])\n",
    "\n",
    "# 배열의 shape 확인\n",
    "print(arr2.shape)\n",
    "\n",
    "# 특정 요소에 접근\n",
    "print(arr2[1, 2])   # 두 번째 행, 세 번째 열\n",
    "# 인덱스 접근은 0부터 시작!\n",
    "\n",
    "# 슬라이싱\n",
    "print(arr2[:, 1])  # 모든 행의 두 번째 열\n",
    "\n",
    "# 특정 요소에 접근\n",
    "print(arr2[0][1])  # 첫 번째 행의 두 번째 요소(특정 위치의 값을 가져올 때)"
   ]
  }
 ],
 "metadata": {
  "kernelspec": {
   "display_name": ".venv",
   "language": "python",
   "name": "python3"
  },
  "language_info": {
   "codemirror_mode": {
    "name": "ipython",
    "version": 3
   },
   "file_extension": ".py",
   "mimetype": "text/x-python",
   "name": "python",
   "nbconvert_exporter": "python",
   "pygments_lexer": "ipython3",
   "version": "3.10.6"
  }
 },
 "nbformat": 4,
 "nbformat_minor": 2
}
